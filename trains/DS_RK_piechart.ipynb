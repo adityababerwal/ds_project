{
 "cells": [
  {
   "cell_type": "code",
   "execution_count": 1,
   "id": "418d33d5",
   "metadata": {},
   "outputs": [],
   "source": [
    "#importing libraries\n",
    "import pandas as pd\n",
    "import numpy as np\n",
    "import matplotlib.pyplot as plt\n",
    "import seaborn as sb"
   ]
  },
  {
   "cell_type": "code",
   "execution_count": 3,
   "id": "83de797b",
   "metadata": {},
   "outputs": [],
   "source": [
    "df = pd.read_excel('until-totaltime.xlsx')"
   ]
  },
  {
   "cell_type": "code",
   "execution_count": 4,
   "id": "c7e17318",
   "metadata": {},
   "outputs": [
    {
     "data": {
      "text/html": [
       "<div>\n",
       "<style scoped>\n",
       "    .dataframe tbody tr th:only-of-type {\n",
       "        vertical-align: middle;\n",
       "    }\n",
       "\n",
       "    .dataframe tbody tr th {\n",
       "        vertical-align: top;\n",
       "    }\n",
       "\n",
       "    .dataframe thead th {\n",
       "        text-align: right;\n",
       "    }\n",
       "</style>\n",
       "<table border=\"1\" class=\"dataframe\">\n",
       "  <thead>\n",
       "    <tr style=\"text-align: right;\">\n",
       "      <th></th>\n",
       "      <th>third_ac</th>\n",
       "      <th>arrival</th>\n",
       "      <th>from_station_code</th>\n",
       "      <th>name</th>\n",
       "      <th>zone</th>\n",
       "      <th>chair_car</th>\n",
       "      <th>first_class</th>\n",
       "      <th>sleeper</th>\n",
       "      <th>from_station_name</th>\n",
       "      <th>number</th>\n",
       "      <th>departure</th>\n",
       "      <th>return_train</th>\n",
       "      <th>to_station_code</th>\n",
       "      <th>second_ac</th>\n",
       "      <th>to_station_name</th>\n",
       "      <th>type</th>\n",
       "      <th>first_ac</th>\n",
       "      <th>distance</th>\n",
       "      <th>total time</th>\n",
       "    </tr>\n",
       "  </thead>\n",
       "  <tbody>\n",
       "    <tr>\n",
       "      <th>0</th>\n",
       "      <td>0</td>\n",
       "      <td>12:15:00</td>\n",
       "      <td>JAT</td>\n",
       "      <td>Jammu Tawi Udhampur Special</td>\n",
       "      <td>NR</td>\n",
       "      <td>0</td>\n",
       "      <td>0</td>\n",
       "      <td>0</td>\n",
       "      <td>JAMMU TAWI</td>\n",
       "      <td>04601</td>\n",
       "      <td>10:40:00</td>\n",
       "      <td>04602</td>\n",
       "      <td>UHP</td>\n",
       "      <td>0</td>\n",
       "      <td>UDHAMPUR</td>\n",
       "      <td>DEMU</td>\n",
       "      <td>0</td>\n",
       "      <td>53</td>\n",
       "      <td>1.583333</td>\n",
       "    </tr>\n",
       "    <tr>\n",
       "      <th>1</th>\n",
       "      <td>0</td>\n",
       "      <td>08:35:00</td>\n",
       "      <td>UHP</td>\n",
       "      <td>UDHAMPUR JAMMUTAWI DMU</td>\n",
       "      <td>NR</td>\n",
       "      <td>0</td>\n",
       "      <td>0</td>\n",
       "      <td>0</td>\n",
       "      <td>UDHAMPUR</td>\n",
       "      <td>04602</td>\n",
       "      <td>06:45:00</td>\n",
       "      <td>04601</td>\n",
       "      <td>JAT</td>\n",
       "      <td>0</td>\n",
       "      <td>JAMMU TAWI</td>\n",
       "      <td>DEMU</td>\n",
       "      <td>0</td>\n",
       "      <td>53</td>\n",
       "      <td>1.833333</td>\n",
       "    </tr>\n",
       "    <tr>\n",
       "      <th>2</th>\n",
       "      <td>0</td>\n",
       "      <td>17:50:00</td>\n",
       "      <td>JAT</td>\n",
       "      <td>JAT UDAHMPUR DMU</td>\n",
       "      <td>NR</td>\n",
       "      <td>0</td>\n",
       "      <td>0</td>\n",
       "      <td>0</td>\n",
       "      <td>JAMMU TAWI</td>\n",
       "      <td>04603</td>\n",
       "      <td>16:15:00</td>\n",
       "      <td>04604</td>\n",
       "      <td>UHP</td>\n",
       "      <td>0</td>\n",
       "      <td>UDHAMPUR</td>\n",
       "      <td>DEMU</td>\n",
       "      <td>0</td>\n",
       "      <td>53</td>\n",
       "      <td>1.583333</td>\n",
       "    </tr>\n",
       "    <tr>\n",
       "      <th>3</th>\n",
       "      <td>0</td>\n",
       "      <td>19:50:00</td>\n",
       "      <td>UHP</td>\n",
       "      <td>UDHAMPUR JAMMUTAWI DMU</td>\n",
       "      <td>NR</td>\n",
       "      <td>0</td>\n",
       "      <td>0</td>\n",
       "      <td>0</td>\n",
       "      <td>UDHAMPUR</td>\n",
       "      <td>04604</td>\n",
       "      <td>18:20:00</td>\n",
       "      <td>04603</td>\n",
       "      <td>JAT</td>\n",
       "      <td>0</td>\n",
       "      <td>JAMMU TAWI</td>\n",
       "      <td>DEMU</td>\n",
       "      <td>0</td>\n",
       "      <td>53</td>\n",
       "      <td>1.500000</td>\n",
       "    </tr>\n",
       "    <tr>\n",
       "      <th>4</th>\n",
       "      <td>1</td>\n",
       "      <td>12:30:00</td>\n",
       "      <td>BDTS</td>\n",
       "      <td>Mumbai BandraT-Bikaner SF Special</td>\n",
       "      <td>NWR</td>\n",
       "      <td>0</td>\n",
       "      <td>0</td>\n",
       "      <td>1</td>\n",
       "      <td>MUMBAI BANDRA TERMINUS</td>\n",
       "      <td>04728</td>\n",
       "      <td>14:35:00</td>\n",
       "      <td>04727</td>\n",
       "      <td>BKN</td>\n",
       "      <td>1</td>\n",
       "      <td>BIKANER JN</td>\n",
       "      <td>SF</td>\n",
       "      <td>0</td>\n",
       "      <td>1212</td>\n",
       "      <td>21.916667</td>\n",
       "    </tr>\n",
       "    <tr>\n",
       "      <th>5</th>\n",
       "      <td>0</td>\n",
       "      <td>23:45:00</td>\n",
       "      <td>DNA</td>\n",
       "      <td>Rewari Degana Merta Special</td>\n",
       "      <td>NWR</td>\n",
       "      <td>0</td>\n",
       "      <td>0</td>\n",
       "      <td>0</td>\n",
       "      <td>DEGANA JN</td>\n",
       "      <td>04853</td>\n",
       "      <td>22:30:00</td>\n",
       "      <td>04854</td>\n",
       "      <td>MTD</td>\n",
       "      <td>0</td>\n",
       "      <td>MERTA ROAD JN</td>\n",
       "      <td>Pass</td>\n",
       "      <td>0</td>\n",
       "      <td>44</td>\n",
       "      <td>1.250000</td>\n",
       "    </tr>\n",
       "    <tr>\n",
       "      <th>6</th>\n",
       "      <td>0</td>\n",
       "      <td>04:40:00</td>\n",
       "      <td>MTD</td>\n",
       "      <td>Degana Merta Special</td>\n",
       "      <td>NWR</td>\n",
       "      <td>0</td>\n",
       "      <td>0</td>\n",
       "      <td>0</td>\n",
       "      <td>MERTA ROAD JN</td>\n",
       "      <td>04854</td>\n",
       "      <td>03:40:00</td>\n",
       "      <td>04853</td>\n",
       "      <td>DNA</td>\n",
       "      <td>0</td>\n",
       "      <td>DEGANA JN</td>\n",
       "      <td>Pass</td>\n",
       "      <td>0</td>\n",
       "      <td>44</td>\n",
       "      <td>1.000000</td>\n",
       "    </tr>\n",
       "    <tr>\n",
       "      <th>7</th>\n",
       "      <td>1</td>\n",
       "      <td>17:50:00</td>\n",
       "      <td>JAT</td>\n",
       "      <td>JAMMU TAWI - BANDRA TERMINUS AC Suvidha Specia...</td>\n",
       "      <td>WR</td>\n",
       "      <td>0</td>\n",
       "      <td>0</td>\n",
       "      <td>1</td>\n",
       "      <td>JAMMU TAWI</td>\n",
       "      <td>09022</td>\n",
       "      <td>09:30:00</td>\n",
       "      <td>09021</td>\n",
       "      <td>BDTS</td>\n",
       "      <td>1</td>\n",
       "      <td>MUMBAI BANDRA TERMINUS</td>\n",
       "      <td>SF</td>\n",
       "      <td>1</td>\n",
       "      <td>1957</td>\n",
       "      <td>32.333333</td>\n",
       "    </tr>\n",
       "    <tr>\n",
       "      <th>8</th>\n",
       "      <td>1</td>\n",
       "      <td>21:55:00</td>\n",
       "      <td>DR</td>\n",
       "      <td>Chalukya Express</td>\n",
       "      <td>CR</td>\n",
       "      <td>0</td>\n",
       "      <td>0</td>\n",
       "      <td>1</td>\n",
       "      <td>MUMBAI DADAR CENTRAL</td>\n",
       "      <td>11017</td>\n",
       "      <td>21:30:00</td>\n",
       "      <td>11018</td>\n",
       "      <td>YPR</td>\n",
       "      <td>1</td>\n",
       "      <td>YESVANTPUR JN</td>\n",
       "      <td>Exp</td>\n",
       "      <td>0</td>\n",
       "      <td>1205</td>\n",
       "      <td>24.416667</td>\n",
       "    </tr>\n",
       "    <tr>\n",
       "      <th>9</th>\n",
       "      <td>1</td>\n",
       "      <td>04:25:00</td>\n",
       "      <td>CSTM</td>\n",
       "      <td>Konark Express</td>\n",
       "      <td>CR</td>\n",
       "      <td>0</td>\n",
       "      <td>0</td>\n",
       "      <td>1</td>\n",
       "      <td>MUMBAI CST</td>\n",
       "      <td>11019</td>\n",
       "      <td>15:10:00</td>\n",
       "      <td>11020</td>\n",
       "      <td>BBS</td>\n",
       "      <td>1</td>\n",
       "      <td>BHUBANESWAR</td>\n",
       "      <td>Exp</td>\n",
       "      <td>0</td>\n",
       "      <td>1932</td>\n",
       "      <td>37.250000</td>\n",
       "    </tr>\n",
       "  </tbody>\n",
       "</table>\n",
       "</div>"
      ],
      "text/plain": [
       "   third_ac   arrival from_station_code  \\\n",
       "0         0  12:15:00               JAT   \n",
       "1         0  08:35:00               UHP   \n",
       "2         0  17:50:00               JAT   \n",
       "3         0  19:50:00               UHP   \n",
       "4         1  12:30:00              BDTS   \n",
       "5         0  23:45:00               DNA   \n",
       "6         0  04:40:00               MTD   \n",
       "7         1  17:50:00               JAT   \n",
       "8         1  21:55:00                DR   \n",
       "9         1  04:25:00              CSTM   \n",
       "\n",
       "                                                name zone  chair_car  \\\n",
       "0                        Jammu Tawi Udhampur Special   NR          0   \n",
       "1                             UDHAMPUR JAMMUTAWI DMU   NR          0   \n",
       "2                                   JAT UDAHMPUR DMU   NR          0   \n",
       "3                             UDHAMPUR JAMMUTAWI DMU   NR          0   \n",
       "4                  Mumbai BandraT-Bikaner SF Special  NWR          0   \n",
       "5                        Rewari Degana Merta Special  NWR          0   \n",
       "6                               Degana Merta Special  NWR          0   \n",
       "7  JAMMU TAWI - BANDRA TERMINUS AC Suvidha Specia...   WR          0   \n",
       "8                                   Chalukya Express   CR          0   \n",
       "9                                     Konark Express   CR          0   \n",
       "\n",
       "   first_class  sleeper       from_station_name number departure return_train  \\\n",
       "0            0        0              JAMMU TAWI  04601  10:40:00        04602   \n",
       "1            0        0                UDHAMPUR  04602  06:45:00        04601   \n",
       "2            0        0              JAMMU TAWI  04603  16:15:00        04604   \n",
       "3            0        0                UDHAMPUR  04604  18:20:00        04603   \n",
       "4            0        1  MUMBAI BANDRA TERMINUS  04728  14:35:00        04727   \n",
       "5            0        0               DEGANA JN  04853  22:30:00        04854   \n",
       "6            0        0           MERTA ROAD JN  04854  03:40:00        04853   \n",
       "7            0        1              JAMMU TAWI  09022  09:30:00        09021   \n",
       "8            0        1    MUMBAI DADAR CENTRAL  11017  21:30:00        11018   \n",
       "9            0        1              MUMBAI CST  11019  15:10:00        11020   \n",
       "\n",
       "  to_station_code  second_ac         to_station_name  type  first_ac  \\\n",
       "0             UHP          0                UDHAMPUR  DEMU         0   \n",
       "1             JAT          0              JAMMU TAWI  DEMU         0   \n",
       "2             UHP          0                UDHAMPUR  DEMU         0   \n",
       "3             JAT          0              JAMMU TAWI  DEMU         0   \n",
       "4             BKN          1              BIKANER JN    SF         0   \n",
       "5             MTD          0           MERTA ROAD JN  Pass         0   \n",
       "6             DNA          0               DEGANA JN  Pass         0   \n",
       "7            BDTS          1  MUMBAI BANDRA TERMINUS    SF         1   \n",
       "8             YPR          1           YESVANTPUR JN   Exp         0   \n",
       "9             BBS          1             BHUBANESWAR   Exp         0   \n",
       "\n",
       "   distance  total time  \n",
       "0        53    1.583333  \n",
       "1        53    1.833333  \n",
       "2        53    1.583333  \n",
       "3        53    1.500000  \n",
       "4      1212   21.916667  \n",
       "5        44    1.250000  \n",
       "6        44    1.000000  \n",
       "7      1957   32.333333  \n",
       "8      1205   24.416667  \n",
       "9      1932   37.250000  "
      ]
     },
     "execution_count": 4,
     "metadata": {},
     "output_type": "execute_result"
    }
   ],
   "source": [
    "df.head(10)"
   ]
  },
  {
   "cell_type": "code",
   "execution_count": 5,
   "id": "9817779c",
   "metadata": {},
   "outputs": [],
   "source": [
    "dm=df[\"type\"]"
   ]
  },
  {
   "cell_type": "code",
   "execution_count": 6,
   "id": "271c00bf",
   "metadata": {},
   "outputs": [
    {
     "data": {
      "text/plain": [
       "0       DEMU\n",
       "1       DEMU\n",
       "2       DEMU\n",
       "3       DEMU\n",
       "4         SF\n",
       "        ... \n",
       "4392    Pass\n",
       "4393    Pass\n",
       "4394    MEMU\n",
       "4395    Pass\n",
       "4396    Pass\n",
       "Name: type, Length: 4397, dtype: object"
      ]
     },
     "execution_count": 6,
     "metadata": {},
     "output_type": "execute_result"
    }
   ],
   "source": [
    "dm"
   ]
  },
  {
   "cell_type": "code",
   "execution_count": 7,
   "id": "f64233b5",
   "metadata": {},
   "outputs": [],
   "source": [
    "Train_type=dm.to_numpy(dtype=None,copy=False)"
   ]
  },
  {
   "cell_type": "code",
   "execution_count": 8,
   "id": "0ff92281",
   "metadata": {},
   "outputs": [
    {
     "data": {
      "text/plain": [
       "array(['DEMU', 'DEMU', 'DEMU', ..., 'MEMU', 'Pass', 'Pass'], dtype=object)"
      ]
     },
     "execution_count": 8,
     "metadata": {},
     "output_type": "execute_result"
    }
   ],
   "source": [
    "Train_type"
   ]
  },
  {
   "cell_type": "code",
   "execution_count": 9,
   "id": "05cb0410",
   "metadata": {},
   "outputs": [
    {
     "data": {
      "text/plain": [
       "array(['DEMU', 'SF', 'Pass', 'Exp', 'Mail', 'JShtb', 'GR', 'MEMU', 'Raj',\n",
       "       'Shtb', 'SKr', 'Drnt', 'Hyd', 'Toy', 'Del'], dtype=object)"
      ]
     },
     "execution_count": 9,
     "metadata": {},
     "output_type": "execute_result"
    }
   ],
   "source": [
    "dm.unique()"
   ]
  },
  {
   "cell_type": "code",
   "execution_count": 10,
   "id": "d8e0aa0a",
   "metadata": {},
   "outputs": [],
   "source": [
    "Train_Type, count = np.unique(Train_type, return_counts=True)"
   ]
  },
  {
   "cell_type": "code",
   "execution_count": 11,
   "id": "deb62c4f",
   "metadata": {},
   "outputs": [
    {
     "data": {
      "text/plain": [
       "array(['DEMU', 'Del', 'Drnt', 'Exp', 'GR', 'Hyd', 'JShtb', 'MEMU', 'Mail',\n",
       "       'Pass', 'Raj', 'SF', 'SKr', 'Shtb', 'Toy'], dtype=object)"
      ]
     },
     "execution_count": 11,
     "metadata": {},
     "output_type": "execute_result"
    }
   ],
   "source": [
    "Train_Type"
   ]
  },
  {
   "cell_type": "code",
   "execution_count": 12,
   "id": "f1cd65ed",
   "metadata": {},
   "outputs": [
    {
     "data": {
      "text/plain": [
       "array([   4,    2,   48, 1193,   52,   20,   40,   93,   17, 2096,   48,\n",
       "        705,   38,   31,   10])"
      ]
     },
     "execution_count": 12,
     "metadata": {},
     "output_type": "execute_result"
    }
   ],
   "source": [
    "count"
   ]
  },
  {
   "cell_type": "code",
   "execution_count": 13,
   "id": "e0ed726b",
   "metadata": {},
   "outputs": [
    {
     "data": {
      "text/plain": [
       "(array(['DEMU', 'Del', 'Drnt', 'Exp', 'GR', 'Hyd', 'JShtb', 'MEMU', 'Mail',\n",
       "        'Pass', 'Raj', 'SF', 'SKr', 'Shtb', 'Toy'], dtype=object),\n",
       " array([   4,    2,   48, 1193,   52,   20,   40,   93,   17, 2096,   48,\n",
       "         705,   38,   31,   10]))"
      ]
     },
     "execution_count": 13,
     "metadata": {},
     "output_type": "execute_result"
    }
   ],
   "source": [
    "Train_Type,count"
   ]
  },
  {
   "cell_type": "code",
   "execution_count": 14,
   "id": "24b8c653",
   "metadata": {},
   "outputs": [],
   "source": [
    "new_frame=pd.DataFrame(count,Train_Type)"
   ]
  },
  {
   "cell_type": "code",
   "execution_count": 15,
   "id": "26e0cc56",
   "metadata": {},
   "outputs": [
    {
     "data": {
      "text/html": [
       "<div>\n",
       "<style scoped>\n",
       "    .dataframe tbody tr th:only-of-type {\n",
       "        vertical-align: middle;\n",
       "    }\n",
       "\n",
       "    .dataframe tbody tr th {\n",
       "        vertical-align: top;\n",
       "    }\n",
       "\n",
       "    .dataframe thead th {\n",
       "        text-align: right;\n",
       "    }\n",
       "</style>\n",
       "<table border=\"1\" class=\"dataframe\">\n",
       "  <thead>\n",
       "    <tr style=\"text-align: right;\">\n",
       "      <th></th>\n",
       "      <th>0</th>\n",
       "    </tr>\n",
       "  </thead>\n",
       "  <tbody>\n",
       "    <tr>\n",
       "      <th>DEMU</th>\n",
       "      <td>4</td>\n",
       "    </tr>\n",
       "    <tr>\n",
       "      <th>Del</th>\n",
       "      <td>2</td>\n",
       "    </tr>\n",
       "    <tr>\n",
       "      <th>Drnt</th>\n",
       "      <td>48</td>\n",
       "    </tr>\n",
       "    <tr>\n",
       "      <th>Exp</th>\n",
       "      <td>1193</td>\n",
       "    </tr>\n",
       "    <tr>\n",
       "      <th>GR</th>\n",
       "      <td>52</td>\n",
       "    </tr>\n",
       "    <tr>\n",
       "      <th>Hyd</th>\n",
       "      <td>20</td>\n",
       "    </tr>\n",
       "    <tr>\n",
       "      <th>JShtb</th>\n",
       "      <td>40</td>\n",
       "    </tr>\n",
       "    <tr>\n",
       "      <th>MEMU</th>\n",
       "      <td>93</td>\n",
       "    </tr>\n",
       "    <tr>\n",
       "      <th>Mail</th>\n",
       "      <td>17</td>\n",
       "    </tr>\n",
       "    <tr>\n",
       "      <th>Pass</th>\n",
       "      <td>2096</td>\n",
       "    </tr>\n",
       "    <tr>\n",
       "      <th>Raj</th>\n",
       "      <td>48</td>\n",
       "    </tr>\n",
       "    <tr>\n",
       "      <th>SF</th>\n",
       "      <td>705</td>\n",
       "    </tr>\n",
       "    <tr>\n",
       "      <th>SKr</th>\n",
       "      <td>38</td>\n",
       "    </tr>\n",
       "    <tr>\n",
       "      <th>Shtb</th>\n",
       "      <td>31</td>\n",
       "    </tr>\n",
       "    <tr>\n",
       "      <th>Toy</th>\n",
       "      <td>10</td>\n",
       "    </tr>\n",
       "  </tbody>\n",
       "</table>\n",
       "</div>"
      ],
      "text/plain": [
       "          0\n",
       "DEMU      4\n",
       "Del       2\n",
       "Drnt     48\n",
       "Exp    1193\n",
       "GR       52\n",
       "Hyd      20\n",
       "JShtb    40\n",
       "MEMU     93\n",
       "Mail     17\n",
       "Pass   2096\n",
       "Raj      48\n",
       "SF      705\n",
       "SKr      38\n",
       "Shtb     31\n",
       "Toy      10"
      ]
     },
     "execution_count": 15,
     "metadata": {},
     "output_type": "execute_result"
    }
   ],
   "source": [
    "new_frame"
   ]
  },
  {
   "cell_type": "code",
   "execution_count": 20,
   "id": "5edbf859",
   "metadata": {},
   "outputs": [
    {
     "data": {
      "image/png": "[encoded data removed]",
      "text/plain": [
       "<Figure size 1440x936 with 1 Axes>"
      ]
     },
     "metadata": {
      "needs_background": "light"
     },
     "output_type": "display_data"
    }
   ],
   "source": [
    "import matplotlib.pyplot as plt\n",
    "\n",
    "plt.figure(figsize=(20,13))\n",
    "labels = Train_Type\n",
    "sizes = count\n",
    "\n",
    "plt.title(\"No of trains\", fontdict={'fontsize':25})\n",
    "plt.xlabel(\"type of Trains\", fontdict={'fontsize':25})\n",
    "plt.ylabel(\"Number of Trains\", fontdict={'fontsize':25})\n",
    "plt.bar(labels, sizes)\n",
    "\n",
    "plt.show()"
   ]
  },
  {
   "cell_type": "code",
   "execution_count": null,
   "id": "51fcb9b5",
   "metadata": {},
   "outputs": [],
   "source": []
  }
 ],
 "metadata": {
  "kernelspec": {
   "display_name": "Python 3 (ipykernel)",
   "language": "python",
   "name": "python3"
  },
  "language_info": {
   "codemirror_mode": {
    "name": "ipython",
    "version": 3
   },
   "file_extension": ".py",
   "mimetype": "text/x-python",
   "name": "python",
   "nbconvert_exporter": "python",
   "pygments_lexer": "ipython3",
   "version": "3.10.2"
  }
 },
 "nbformat": 4,
 "nbformat_minor": 5
}
