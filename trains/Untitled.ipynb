{
 "cells": [
  {
   "cell_type": "code",
   "execution_count": 13,
   "id": "e739a17c",
   "metadata": {},
   "outputs": [],
   "source": [
    "import pandas as pd"
   ]
  },
  {
   "cell_type": "code",
   "execution_count": 23,
   "id": "ebcd2e2d",
   "metadata": {},
   "outputs": [],
   "source": [
    "df = pd.read_excel(\"until-totaltime.xlsx\")"
   ]
  },
  {
   "cell_type": "code",
   "execution_count": 24,
   "id": "516f060c",
   "metadata": {},
   "outputs": [
    {
     "data": {
      "text/html": [
       "<div>\n",
       "<style scoped>\n",
       "    .dataframe tbody tr th:only-of-type {\n",
       "        vertical-align: middle;\n",
       "    }\n",
       "\n",
       "    .dataframe tbody tr th {\n",
       "        vertical-align: top;\n",
       "    }\n",
       "\n",
       "    .dataframe thead th {\n",
       "        text-align: right;\n",
       "    }\n",
       "</style>\n",
       "<table border=\"1\" class=\"dataframe\">\n",
       "  <thead>\n",
       "    <tr style=\"text-align: right;\">\n",
       "      <th></th>\n",
       "      <th>third_ac</th>\n",
       "      <th>arrival</th>\n",
       "      <th>from_station_code</th>\n",
       "      <th>name</th>\n",
       "      <th>zone</th>\n",
       "      <th>chair_car</th>\n",
       "      <th>first_class</th>\n",
       "      <th>sleeper</th>\n",
       "      <th>from_station_name</th>\n",
       "      <th>number</th>\n",
       "      <th>departure</th>\n",
       "      <th>return_train</th>\n",
       "      <th>to_station_code</th>\n",
       "      <th>second_ac</th>\n",
       "      <th>to_station_name</th>\n",
       "      <th>type</th>\n",
       "      <th>first_ac</th>\n",
       "      <th>distance</th>\n",
       "      <th>total time</th>\n",
       "    </tr>\n",
       "  </thead>\n",
       "  <tbody>\n",
       "    <tr>\n",
       "      <th>0</th>\n",
       "      <td>0</td>\n",
       "      <td>12:15:00</td>\n",
       "      <td>JAT</td>\n",
       "      <td>Jammu Tawi Udhampur Special</td>\n",
       "      <td>NR</td>\n",
       "      <td>0</td>\n",
       "      <td>0</td>\n",
       "      <td>0</td>\n",
       "      <td>JAMMU TAWI</td>\n",
       "      <td>04601</td>\n",
       "      <td>10:40:00</td>\n",
       "      <td>04602</td>\n",
       "      <td>UHP</td>\n",
       "      <td>0</td>\n",
       "      <td>UDHAMPUR</td>\n",
       "      <td>DEMU</td>\n",
       "      <td>0</td>\n",
       "      <td>53</td>\n",
       "      <td>1.583333</td>\n",
       "    </tr>\n",
       "    <tr>\n",
       "      <th>1</th>\n",
       "      <td>0</td>\n",
       "      <td>08:35:00</td>\n",
       "      <td>UHP</td>\n",
       "      <td>UDHAMPUR JAMMUTAWI DMU</td>\n",
       "      <td>NR</td>\n",
       "      <td>0</td>\n",
       "      <td>0</td>\n",
       "      <td>0</td>\n",
       "      <td>UDHAMPUR</td>\n",
       "      <td>04602</td>\n",
       "      <td>06:45:00</td>\n",
       "      <td>04601</td>\n",
       "      <td>JAT</td>\n",
       "      <td>0</td>\n",
       "      <td>JAMMU TAWI</td>\n",
       "      <td>DEMU</td>\n",
       "      <td>0</td>\n",
       "      <td>53</td>\n",
       "      <td>1.833333</td>\n",
       "    </tr>\n",
       "    <tr>\n",
       "      <th>2</th>\n",
       "      <td>0</td>\n",
       "      <td>17:50:00</td>\n",
       "      <td>JAT</td>\n",
       "      <td>JAT UDAHMPUR DMU</td>\n",
       "      <td>NR</td>\n",
       "      <td>0</td>\n",
       "      <td>0</td>\n",
       "      <td>0</td>\n",
       "      <td>JAMMU TAWI</td>\n",
       "      <td>04603</td>\n",
       "      <td>16:15:00</td>\n",
       "      <td>04604</td>\n",
       "      <td>UHP</td>\n",
       "      <td>0</td>\n",
       "      <td>UDHAMPUR</td>\n",
       "      <td>DEMU</td>\n",
       "      <td>0</td>\n",
       "      <td>53</td>\n",
       "      <td>1.583333</td>\n",
       "    </tr>\n",
       "    <tr>\n",
       "      <th>3</th>\n",
       "      <td>0</td>\n",
       "      <td>19:50:00</td>\n",
       "      <td>UHP</td>\n",
       "      <td>UDHAMPUR JAMMUTAWI DMU</td>\n",
       "      <td>NR</td>\n",
       "      <td>0</td>\n",
       "      <td>0</td>\n",
       "      <td>0</td>\n",
       "      <td>UDHAMPUR</td>\n",
       "      <td>04604</td>\n",
       "      <td>18:20:00</td>\n",
       "      <td>04603</td>\n",
       "      <td>JAT</td>\n",
       "      <td>0</td>\n",
       "      <td>JAMMU TAWI</td>\n",
       "      <td>DEMU</td>\n",
       "      <td>0</td>\n",
       "      <td>53</td>\n",
       "      <td>1.500000</td>\n",
       "    </tr>\n",
       "    <tr>\n",
       "      <th>4</th>\n",
       "      <td>1</td>\n",
       "      <td>12:30:00</td>\n",
       "      <td>BDTS</td>\n",
       "      <td>Mumbai BandraT-Bikaner SF Special</td>\n",
       "      <td>NWR</td>\n",
       "      <td>0</td>\n",
       "      <td>0</td>\n",
       "      <td>1</td>\n",
       "      <td>MUMBAI BANDRA TERMINUS</td>\n",
       "      <td>04728</td>\n",
       "      <td>14:35:00</td>\n",
       "      <td>04727</td>\n",
       "      <td>BKN</td>\n",
       "      <td>1</td>\n",
       "      <td>BIKANER JN</td>\n",
       "      <td>SF</td>\n",
       "      <td>0</td>\n",
       "      <td>1212</td>\n",
       "      <td>21.916667</td>\n",
       "    </tr>\n",
       "    <tr>\n",
       "      <th>...</th>\n",
       "      <td>...</td>\n",
       "      <td>...</td>\n",
       "      <td>...</td>\n",
       "      <td>...</td>\n",
       "      <td>...</td>\n",
       "      <td>...</td>\n",
       "      <td>...</td>\n",
       "      <td>...</td>\n",
       "      <td>...</td>\n",
       "      <td>...</td>\n",
       "      <td>...</td>\n",
       "      <td>...</td>\n",
       "      <td>...</td>\n",
       "      <td>...</td>\n",
       "      <td>...</td>\n",
       "      <td>...</td>\n",
       "      <td>...</td>\n",
       "      <td>...</td>\n",
       "      <td>...</td>\n",
       "    </tr>\n",
       "    <tr>\n",
       "      <th>4392</th>\n",
       "      <td>0</td>\n",
       "      <td>12:25:00</td>\n",
       "      <td>KDJR</td>\n",
       "      <td>Kendujhargarh-Bhubaneswar Fast Passenger</td>\n",
       "      <td>ECoR</td>\n",
       "      <td>0</td>\n",
       "      <td>0</td>\n",
       "      <td>0</td>\n",
       "      <td>Kendujhargarh</td>\n",
       "      <td>58425</td>\n",
       "      <td>06:30:00</td>\n",
       "      <td>58426</td>\n",
       "      <td>BBS</td>\n",
       "      <td>0</td>\n",
       "      <td>BHUBANESWAR</td>\n",
       "      <td>Pass</td>\n",
       "      <td>0</td>\n",
       "      <td>215</td>\n",
       "      <td>5.916667</td>\n",
       "    </tr>\n",
       "    <tr>\n",
       "      <th>4393</th>\n",
       "      <td>0</td>\n",
       "      <td>03:10:00</td>\n",
       "      <td>KOTA</td>\n",
       "      <td>Kota Vadodara Passenger</td>\n",
       "      <td>WR</td>\n",
       "      <td>0</td>\n",
       "      <td>0</td>\n",
       "      <td>0</td>\n",
       "      <td>KOTA JN</td>\n",
       "      <td>59832</td>\n",
       "      <td>09:30:00</td>\n",
       "      <td>59831</td>\n",
       "      <td>BRC</td>\n",
       "      <td>0</td>\n",
       "      <td>VADODARA JN</td>\n",
       "      <td>Pass</td>\n",
       "      <td>0</td>\n",
       "      <td>526</td>\n",
       "      <td>17.666667</td>\n",
       "    </tr>\n",
       "    <tr>\n",
       "      <th>4394</th>\n",
       "      <td>0</td>\n",
       "      <td>15:20:00</td>\n",
       "      <td>ASN</td>\n",
       "      <td>Asansol Dhanbad Passenger</td>\n",
       "      <td>ER</td>\n",
       "      <td>0</td>\n",
       "      <td>0</td>\n",
       "      <td>0</td>\n",
       "      <td>ASANSOL JN</td>\n",
       "      <td>63545</td>\n",
       "      <td>14:00:00</td>\n",
       "      <td>63546</td>\n",
       "      <td>DHN</td>\n",
       "      <td>0</td>\n",
       "      <td>DHANBAD JN</td>\n",
       "      <td>MEMU</td>\n",
       "      <td>0</td>\n",
       "      <td>59</td>\n",
       "      <td>1.333333</td>\n",
       "    </tr>\n",
       "    <tr>\n",
       "      <th>4395</th>\n",
       "      <td>0</td>\n",
       "      <td>20:45:00</td>\n",
       "      <td>VG</td>\n",
       "      <td>Viramgam Valsad Passenger</td>\n",
       "      <td>WR</td>\n",
       "      <td>0</td>\n",
       "      <td>1</td>\n",
       "      <td>0</td>\n",
       "      <td>VIRAMGAM JN</td>\n",
       "      <td>59050</td>\n",
       "      <td>07:30:00</td>\n",
       "      <td>59049</td>\n",
       "      <td>BL</td>\n",
       "      <td>0</td>\n",
       "      <td>VALSAD</td>\n",
       "      <td>Pass</td>\n",
       "      <td>0</td>\n",
       "      <td>364</td>\n",
       "      <td>13.250000</td>\n",
       "    </tr>\n",
       "    <tr>\n",
       "      <th>4396</th>\n",
       "      <td>0</td>\n",
       "      <td>08:10:00</td>\n",
       "      <td>CWA</td>\n",
       "      <td>Panchvalley Passenger Slip1</td>\n",
       "      <td>SCR</td>\n",
       "      <td>0</td>\n",
       "      <td>0</td>\n",
       "      <td>1</td>\n",
       "      <td>Chhindwara Junction</td>\n",
       "      <td>59386-Slip</td>\n",
       "      <td>21:05:00</td>\n",
       "      <td>59385</td>\n",
       "      <td>ASR</td>\n",
       "      <td>0</td>\n",
       "      <td>AMRITSAR JN</td>\n",
       "      <td>Pass</td>\n",
       "      <td>0</td>\n",
       "      <td>1545</td>\n",
       "      <td>35.083333</td>\n",
       "    </tr>\n",
       "  </tbody>\n",
       "</table>\n",
       "<p>4397 rows × 19 columns</p>\n",
       "</div>"
      ],
      "text/plain": [
       "      third_ac   arrival from_station_code  \\\n",
       "0            0  12:15:00               JAT   \n",
       "1            0  08:35:00               UHP   \n",
       "2            0  17:50:00               JAT   \n",
       "3            0  19:50:00               UHP   \n",
       "4            1  12:30:00              BDTS   \n",
       "...        ...       ...               ...   \n",
       "4392         0  12:25:00              KDJR   \n",
       "4393         0  03:10:00              KOTA   \n",
       "4394         0  15:20:00               ASN   \n",
       "4395         0  20:45:00                VG   \n",
       "4396         0  08:10:00               CWA   \n",
       "\n",
       "                                          name  zone  chair_car  first_class  \\\n",
       "0                  Jammu Tawi Udhampur Special    NR          0            0   \n",
       "1                       UDHAMPUR JAMMUTAWI DMU    NR          0            0   \n",
       "2                             JAT UDAHMPUR DMU    NR          0            0   \n",
       "3                       UDHAMPUR JAMMUTAWI DMU    NR          0            0   \n",
       "4            Mumbai BandraT-Bikaner SF Special   NWR          0            0   \n",
       "...                                        ...   ...        ...          ...   \n",
       "4392  Kendujhargarh-Bhubaneswar Fast Passenger  ECoR          0            0   \n",
       "4393                   Kota Vadodara Passenger    WR          0            0   \n",
       "4394                 Asansol Dhanbad Passenger    ER          0            0   \n",
       "4395                 Viramgam Valsad Passenger    WR          0            1   \n",
       "4396               Panchvalley Passenger Slip1   SCR          0            0   \n",
       "\n",
       "      sleeper       from_station_name      number departure return_train  \\\n",
       "0           0              JAMMU TAWI       04601  10:40:00        04602   \n",
       "1           0                UDHAMPUR       04602  06:45:00        04601   \n",
       "2           0              JAMMU TAWI       04603  16:15:00        04604   \n",
       "3           0                UDHAMPUR       04604  18:20:00        04603   \n",
       "4           1  MUMBAI BANDRA TERMINUS       04728  14:35:00        04727   \n",
       "...       ...                     ...         ...       ...          ...   \n",
       "4392        0           Kendujhargarh       58425  06:30:00        58426   \n",
       "4393        0                 KOTA JN       59832  09:30:00        59831   \n",
       "4394        0              ASANSOL JN       63545  14:00:00        63546   \n",
       "4395        0             VIRAMGAM JN       59050  07:30:00        59049   \n",
       "4396        1     Chhindwara Junction  59386-Slip  21:05:00        59385   \n",
       "\n",
       "     to_station_code  second_ac to_station_name  type  first_ac  distance  \\\n",
       "0                UHP          0        UDHAMPUR  DEMU         0        53   \n",
       "1                JAT          0      JAMMU TAWI  DEMU         0        53   \n",
       "2                UHP          0        UDHAMPUR  DEMU         0        53   \n",
       "3                JAT          0      JAMMU TAWI  DEMU         0        53   \n",
       "4                BKN          1      BIKANER JN    SF         0      1212   \n",
       "...              ...        ...             ...   ...       ...       ...   \n",
       "4392             BBS          0     BHUBANESWAR  Pass         0       215   \n",
       "4393             BRC          0     VADODARA JN  Pass         0       526   \n",
       "4394             DHN          0      DHANBAD JN  MEMU         0        59   \n",
       "4395              BL          0          VALSAD  Pass         0       364   \n",
       "4396             ASR          0     AMRITSAR JN  Pass         0      1545   \n",
       "\n",
       "      total time  \n",
       "0       1.583333  \n",
       "1       1.833333  \n",
       "2       1.583333  \n",
       "3       1.500000  \n",
       "4      21.916667  \n",
       "...          ...  \n",
       "4392    5.916667  \n",
       "4393   17.666667  \n",
       "4394    1.333333  \n",
       "4395   13.250000  \n",
       "4396   35.083333  \n",
       "\n",
       "[4397 rows x 19 columns]"
      ]
     },
     "execution_count": 24,
     "metadata": {},
     "output_type": "execute_result"
    }
   ],
   "source": [
    "df"
   ]
  },
  {
   "cell_type": "code",
   "execution_count": 25,
   "id": "dd527c8b",
   "metadata": {},
   "outputs": [
    {
     "data": {
      "text/plain": [
       "3658"
      ]
     },
     "execution_count": 25,
     "metadata": {},
     "output_type": "execute_result"
    }
   ],
   "source": [
    "df.loc[df[\"total time\"] <= 24].count()[0]"
   ]
  },
  {
   "cell_type": "code",
   "execution_count": 26,
   "id": "632ec7fb",
   "metadata": {},
   "outputs": [
    {
     "data": {
      "text/plain": [
       "641"
      ]
     },
     "execution_count": 26,
     "metadata": {},
     "output_type": "execute_result"
    }
   ],
   "source": [
    "df.loc[(df[\"total time\"] > 24) & (df[\"total time\"] <= 48)].count()[0]"
   ]
  },
  {
   "cell_type": "code",
   "execution_count": 27,
   "id": "7d6f9aed",
   "metadata": {},
   "outputs": [
    {
     "data": {
      "text/plain": [
       "96"
      ]
     },
     "execution_count": 27,
     "metadata": {},
     "output_type": "execute_result"
    }
   ],
   "source": [
    "df.loc[(df[\"total time\"] > 48) & (df[\"total time\"] <= 72)].count()[0]"
   ]
  },
  {
   "cell_type": "code",
   "execution_count": 28,
   "id": "5d286a43",
   "metadata": {},
   "outputs": [
    {
     "data": {
      "text/plain": [
       "2"
      ]
     },
     "execution_count": 28,
     "metadata": {},
     "output_type": "execute_result"
    }
   ],
   "source": [
    "df.loc[df[\"total time\"] > 72].count()[0]"
   ]
  },
  {
   "cell_type": "code",
   "execution_count": 29,
   "id": "786d1cb7",
   "metadata": {},
   "outputs": [],
   "source": [
    "import matplotlib.pyplot as plt"
   ]
  },
  {
   "cell_type": "code",
   "execution_count": 53,
   "id": "62be1188",
   "metadata": {},
   "outputs": [
    {
     "data": {
      "image/png": "[encoded data removed]",
      "text/plain": [
       "<Figure size 1440x936 with 1 Axes>"
      ]
     },
     "metadata": {
      "needs_background": "light"
     },
     "output_type": "display_data"
    }
   ],
   "source": [
    "plt.figure(figsize=(20,13))\n",
    "\n",
    "values = [3658, 641, 96, 2]\n",
    "labels = [\"1 day\", \"2 days\", \"3 days\", \"4 days\"]\n",
    "plt.title(\"Journey period of trains\", fontdict={'fontsize':20})\n",
    "plt.xlabel(\"Number of days\", fontdict={'fontsize':20})\n",
    "plt.ylabel(\"Number of trains\", fontdict={'fontsize':20})\n",
    "plt.bar(labels, values)\n",
    "\n",
    "plt.show()"
   ]
  },
  {
   "cell_type": "code",
   "execution_count": 63,
   "id": "63a3ca1c",
   "metadata": {},
   "outputs": [
    {
     "data": {
      "text/plain": [
       "0    2774\n",
       "1    1623\n",
       "Name: sleeper, dtype: int64"
      ]
     },
     "execution_count": 63,
     "metadata": {},
     "output_type": "execute_result"
    }
   ],
   "source": [
    "df.sleeper.value_counts()"
   ]
  },
  {
   "cell_type": "code",
   "execution_count": 62,
   "id": "ab130392",
   "metadata": {},
   "outputs": [
    {
     "data": {
      "text/plain": [
       "0    3995\n",
       "1     402\n",
       "Name: chair_car, dtype: int64"
      ]
     },
     "execution_count": 62,
     "metadata": {},
     "output_type": "execute_result"
    }
   ],
   "source": [
    "df.chair_car.value_counts()"
   ]
  },
  {
   "cell_type": "code",
   "execution_count": 58,
   "id": "0e7f0535",
   "metadata": {},
   "outputs": [
    {
     "data": {
      "text/plain": [
       "0    2836\n",
       "1    1561\n",
       "Name: third_ac, dtype: int64"
      ]
     },
     "execution_count": 58,
     "metadata": {},
     "output_type": "execute_result"
    }
   ],
   "source": [
    "df.third_ac.value_counts()"
   ]
  },
  {
   "cell_type": "code",
   "execution_count": 59,
   "id": "1cb333ec",
   "metadata": {},
   "outputs": [
    {
     "data": {
      "text/plain": [
       "0    3043\n",
       "1    1354\n",
       "Name: second_ac, dtype: int64"
      ]
     },
     "execution_count": 59,
     "metadata": {},
     "output_type": "execute_result"
    }
   ],
   "source": [
    "df.second_ac.value_counts()"
   ]
  },
  {
   "cell_type": "code",
   "execution_count": 60,
   "id": "d92f4877",
   "metadata": {},
   "outputs": [
    {
     "data": {
      "text/plain": [
       "0    3967\n",
       "1     430\n",
       "Name: first_ac, dtype: int64"
      ]
     },
     "execution_count": 60,
     "metadata": {},
     "output_type": "execute_result"
    }
   ],
   "source": [
    "df.first_ac.value_counts()"
   ]
  },
  {
   "cell_type": "code",
   "execution_count": 66,
   "id": "094563c3",
   "metadata": {},
   "outputs": [
    {
     "data": {
      "image/png": "[encoded data removed]",
      "text/plain": [
       "<Figure size 1440x936 with 1 Axes>"
      ]
     },
     "metadata": {
      "needs_background": "light"
     },
     "output_type": "display_data"
    }
   ],
   "source": [
    "plt.figure(figsize=(20,13))\n",
    "\n",
    "values = [1623, 402, 1561, 1354, 430]\n",
    "labels = [\"Sleeper\", \"Chair Car\", \"Third AC\", \"Second AC\", \"First AC\"]\n",
    "plt.title(\" Different Type of Compartments\", fontdict={'fontsize':20})\n",
    "plt.xlabel(\"Type of Compartments\", fontdict={'fontsize':20})\n",
    "plt.ylabel(\"Number of trains\", fontdict={'fontsize':20})\n",
    "plt.bar(labels, values)\n",
    "\n",
    "plt.show()"
   ]
  },
  {
   "cell_type": "code",
   "execution_count": null,
   "id": "6ab9f199",
   "metadata": {},
   "outputs": [],
   "source": []
  }
 ],
 "metadata": {
  "kernelspec": {
   "display_name": "Python 3 (ipykernel)",
   "language": "python",
   "name": "python3"
  },
  "language_info": {
   "codemirror_mode": {
    "name": "ipython",
    "version": 3
   },
   "file_extension": ".py",
   "mimetype": "text/x-python",
   "name": "python",
   "nbconvert_exporter": "python",
   "pygments_lexer": "ipython3",
   "version": "3.10.2"
  }
 },
 "nbformat": 4,
 "nbformat_minor": 5
}
