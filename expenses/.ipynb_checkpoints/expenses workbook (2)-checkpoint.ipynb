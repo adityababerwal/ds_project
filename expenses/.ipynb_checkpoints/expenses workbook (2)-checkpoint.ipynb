{
 "cells": [
  {
   "cell_type": "code",
   "execution_count": 1,
   "metadata": {},
   "outputs": [],
   "source": [
    "import numpy as np \n",
    "import pandas as pd\n",
    "import matplotlib.pyplot as plt\n",
    "%matplotlib inline\n",
    "import seaborn as sns\n",
    "sns.set(style=\"white\", color_codes=True)\n"
   ]
  },
  {
   "cell_type": "code",
   "execution_count": 2,
   "metadata": {},
   "outputs": [
    {
     "data": {
      "text/html": [
       "<div>\n",
       "<style scoped>\n",
       "    .dataframe tbody tr th:only-of-type {\n",
       "        vertical-align: middle;\n",
       "    }\n",
       "\n",
       "    .dataframe tbody tr th {\n",
       "        vertical-align: top;\n",
       "    }\n",
       "\n",
       "    .dataframe thead th {\n",
       "        text-align: right;\n",
       "    }\n",
       "</style>\n",
       "<table border=\"1\" class=\"dataframe\">\n",
       "  <thead>\n",
       "    <tr style=\"text-align: right;\">\n",
       "      <th></th>\n",
       "      <th>Year</th>\n",
       "      <th>Administration - D.No.4</th>\n",
       "      <th>Repairs and Maintenance - D.No.5</th>\n",
       "      <th>Operation Staff - D.No.6</th>\n",
       "      <th>Operation Fuel - D.No.7</th>\n",
       "      <th>Operation Other than Staff and Fuel - D.No.8</th>\n",
       "      <th>Misc. Expenses - D.No.9</th>\n",
       "      <th>Labour Welfare - D.No.10</th>\n",
       "      <th>Total - D.Nos.4 to 10</th>\n",
       "      <th>Appropriation to Depreciation Reserve Fund</th>\n",
       "      <th>Appropriation to Railway Pension Fund</th>\n",
       "      <th>Total Working Exp. Incl. App. to DRF and PF</th>\n",
       "      <th>Suspense</th>\n",
       "      <th>Payment to Worked Lines</th>\n",
       "      <th>Total Working Expenses</th>\n",
       "    </tr>\n",
       "  </thead>\n",
       "  <tbody>\n",
       "    <tr>\n",
       "      <th>0</th>\n",
       "      <td>1964</td>\n",
       "      <td>49.28</td>\n",
       "      <td>139.38</td>\n",
       "      <td>89.47</td>\n",
       "      <td>92.07</td>\n",
       "      <td>23.73</td>\n",
       "      <td>24.87</td>\n",
       "      <td>16.19</td>\n",
       "      <td>434.99</td>\n",
       "      <td>83.0</td>\n",
       "      <td>11.50</td>\n",
       "      <td>529.49</td>\n",
       "      <td>-1.54</td>\n",
       "      <td>0.16</td>\n",
       "      <td>528.11</td>\n",
       "    </tr>\n",
       "    <tr>\n",
       "      <th>1</th>\n",
       "      <td>1965</td>\n",
       "      <td>55.60</td>\n",
       "      <td>157.58</td>\n",
       "      <td>102.54</td>\n",
       "      <td>101.05</td>\n",
       "      <td>25.61</td>\n",
       "      <td>26.35</td>\n",
       "      <td>18.62</td>\n",
       "      <td>487.35</td>\n",
       "      <td>85.0</td>\n",
       "      <td>12.00</td>\n",
       "      <td>584.35</td>\n",
       "      <td>-1.51</td>\n",
       "      <td>0.19</td>\n",
       "      <td>583.03</td>\n",
       "    </tr>\n",
       "    <tr>\n",
       "      <th>2</th>\n",
       "      <td>1966</td>\n",
       "      <td>60.46</td>\n",
       "      <td>169.95</td>\n",
       "      <td>112.00</td>\n",
       "      <td>110.17</td>\n",
       "      <td>26.37</td>\n",
       "      <td>28.26</td>\n",
       "      <td>20.12</td>\n",
       "      <td>527.33</td>\n",
       "      <td>100.0</td>\n",
       "      <td>13.50</td>\n",
       "      <td>640.83</td>\n",
       "      <td>-1.72</td>\n",
       "      <td>0.14</td>\n",
       "      <td>639.25</td>\n",
       "    </tr>\n",
       "    <tr>\n",
       "      <th>3</th>\n",
       "      <td>1967</td>\n",
       "      <td>66.41</td>\n",
       "      <td>190.14</td>\n",
       "      <td>123.85</td>\n",
       "      <td>127.82</td>\n",
       "      <td>30.97</td>\n",
       "      <td>28.23</td>\n",
       "      <td>22.03</td>\n",
       "      <td>589.45</td>\n",
       "      <td>95.0</td>\n",
       "      <td>9.93</td>\n",
       "      <td>694.38</td>\n",
       "      <td>-1.23</td>\n",
       "      <td>0.15</td>\n",
       "      <td>693.30</td>\n",
       "    </tr>\n",
       "    <tr>\n",
       "      <th>4</th>\n",
       "      <td>1968</td>\n",
       "      <td>71.11</td>\n",
       "      <td>209.05</td>\n",
       "      <td>133.60</td>\n",
       "      <td>139.12</td>\n",
       "      <td>34.33</td>\n",
       "      <td>29.28</td>\n",
       "      <td>22.67</td>\n",
       "      <td>639.16</td>\n",
       "      <td>95.0</td>\n",
       "      <td>9.90</td>\n",
       "      <td>744.06</td>\n",
       "      <td>-2.38</td>\n",
       "      <td>0.25</td>\n",
       "      <td>741.93</td>\n",
       "    </tr>\n",
       "    <tr>\n",
       "      <th>5</th>\n",
       "      <td>1969</td>\n",
       "      <td>75.16</td>\n",
       "      <td>223.77</td>\n",
       "      <td>141.38</td>\n",
       "      <td>151.17</td>\n",
       "      <td>36.54</td>\n",
       "      <td>33.09</td>\n",
       "      <td>23.76</td>\n",
       "      <td>684.87</td>\n",
       "      <td>95.0</td>\n",
       "      <td>9.90</td>\n",
       "      <td>789.77</td>\n",
       "      <td>-0.07</td>\n",
       "      <td>0.18</td>\n",
       "      <td>789.88</td>\n",
       "    </tr>\n",
       "    <tr>\n",
       "      <th>6</th>\n",
       "      <td>1970</td>\n",
       "      <td>83.05</td>\n",
       "      <td>248.53</td>\n",
       "      <td>157.39</td>\n",
       "      <td>146.93</td>\n",
       "      <td>37.99</td>\n",
       "      <td>33.99</td>\n",
       "      <td>26.29</td>\n",
       "      <td>734.17</td>\n",
       "      <td>100.0</td>\n",
       "      <td>14.85</td>\n",
       "      <td>849.02</td>\n",
       "      <td>-1.83</td>\n",
       "      <td>0.15</td>\n",
       "      <td>847.34</td>\n",
       "    </tr>\n",
       "    <tr>\n",
       "      <th>7</th>\n",
       "      <td>1971</td>\n",
       "      <td>87.64</td>\n",
       "      <td>272.74</td>\n",
       "      <td>175.75</td>\n",
       "      <td>155.92</td>\n",
       "      <td>41.95</td>\n",
       "      <td>36.74</td>\n",
       "      <td>28.45</td>\n",
       "      <td>799.19</td>\n",
       "      <td>105.0</td>\n",
       "      <td>11.38</td>\n",
       "      <td>915.57</td>\n",
       "      <td>-3.87</td>\n",
       "      <td>0.15</td>\n",
       "      <td>911.85</td>\n",
       "    </tr>\n",
       "    <tr>\n",
       "      <th>8</th>\n",
       "      <td>1972</td>\n",
       "      <td>91.97</td>\n",
       "      <td>309.89</td>\n",
       "      <td>183.48</td>\n",
       "      <td>162.37</td>\n",
       "      <td>44.70</td>\n",
       "      <td>36.23</td>\n",
       "      <td>30.22</td>\n",
       "      <td>858.86</td>\n",
       "      <td>110.0</td>\n",
       "      <td>15.85</td>\n",
       "      <td>984.71</td>\n",
       "      <td>-2.23</td>\n",
       "      <td>0.14</td>\n",
       "      <td>982.62</td>\n",
       "    </tr>\n",
       "    <tr>\n",
       "      <th>9</th>\n",
       "      <td>1973</td>\n",
       "      <td>102.30</td>\n",
       "      <td>356.28</td>\n",
       "      <td>205.30</td>\n",
       "      <td>158.85</td>\n",
       "      <td>46.70</td>\n",
       "      <td>37.21</td>\n",
       "      <td>33.74</td>\n",
       "      <td>940.38</td>\n",
       "      <td>115.0</td>\n",
       "      <td>15.85</td>\n",
       "      <td>1071.23</td>\n",
       "      <td>-5.05</td>\n",
       "      <td>0.15</td>\n",
       "      <td>1066.33</td>\n",
       "    </tr>\n",
       "  </tbody>\n",
       "</table>\n",
       "</div>"
      ],
      "text/plain": [
       "   Year  Administration - D.No.4  Repairs and Maintenance - D.No.5  \\\n",
       "0  1964                    49.28                            139.38   \n",
       "1  1965                    55.60                            157.58   \n",
       "2  1966                    60.46                            169.95   \n",
       "3  1967                    66.41                            190.14   \n",
       "4  1968                    71.11                            209.05   \n",
       "5  1969                    75.16                            223.77   \n",
       "6  1970                    83.05                            248.53   \n",
       "7  1971                    87.64                            272.74   \n",
       "8  1972                    91.97                            309.89   \n",
       "9  1973                   102.30                            356.28   \n",
       "\n",
       "   Operation Staff - D.No.6  Operation Fuel - D.No.7  \\\n",
       "0                     89.47                    92.07   \n",
       "1                    102.54                   101.05   \n",
       "2                    112.00                   110.17   \n",
       "3                    123.85                   127.82   \n",
       "4                    133.60                   139.12   \n",
       "5                    141.38                   151.17   \n",
       "6                    157.39                   146.93   \n",
       "7                    175.75                   155.92   \n",
       "8                    183.48                   162.37   \n",
       "9                    205.30                   158.85   \n",
       "\n",
       "   Operation Other than Staff and Fuel - D.No.8  Misc. Expenses - D.No.9  \\\n",
       "0                                         23.73                    24.87   \n",
       "1                                         25.61                    26.35   \n",
       "2                                         26.37                    28.26   \n",
       "3                                         30.97                    28.23   \n",
       "4                                         34.33                    29.28   \n",
       "5                                         36.54                    33.09   \n",
       "6                                         37.99                    33.99   \n",
       "7                                         41.95                    36.74   \n",
       "8                                         44.70                    36.23   \n",
       "9                                         46.70                    37.21   \n",
       "\n",
       "   Labour Welfare - D.No.10  Total - D.Nos.4 to 10  \\\n",
       "0                     16.19                 434.99   \n",
       "1                     18.62                 487.35   \n",
       "2                     20.12                 527.33   \n",
       "3                     22.03                 589.45   \n",
       "4                     22.67                 639.16   \n",
       "5                     23.76                 684.87   \n",
       "6                     26.29                 734.17   \n",
       "7                     28.45                 799.19   \n",
       "8                     30.22                 858.86   \n",
       "9                     33.74                 940.38   \n",
       "\n",
       "   Appropriation to Depreciation Reserve Fund  \\\n",
       "0                                        83.0   \n",
       "1                                        85.0   \n",
       "2                                       100.0   \n",
       "3                                        95.0   \n",
       "4                                        95.0   \n",
       "5                                        95.0   \n",
       "6                                       100.0   \n",
       "7                                       105.0   \n",
       "8                                       110.0   \n",
       "9                                       115.0   \n",
       "\n",
       "   Appropriation to Railway Pension Fund  \\\n",
       "0                                  11.50   \n",
       "1                                  12.00   \n",
       "2                                  13.50   \n",
       "3                                   9.93   \n",
       "4                                   9.90   \n",
       "5                                   9.90   \n",
       "6                                  14.85   \n",
       "7                                  11.38   \n",
       "8                                  15.85   \n",
       "9                                  15.85   \n",
       "\n",
       "   Total Working Exp. Incl. App. to DRF and PF  Suspense  \\\n",
       "0                                       529.49     -1.54   \n",
       "1                                       584.35     -1.51   \n",
       "2                                       640.83     -1.72   \n",
       "3                                       694.38     -1.23   \n",
       "4                                       744.06     -2.38   \n",
       "5                                       789.77     -0.07   \n",
       "6                                       849.02     -1.83   \n",
       "7                                       915.57     -3.87   \n",
       "8                                       984.71     -2.23   \n",
       "9                                      1071.23     -5.05   \n",
       "\n",
       "   Payment to Worked Lines  Total Working Expenses  \n",
       "0                     0.16                  528.11  \n",
       "1                     0.19                  583.03  \n",
       "2                     0.14                  639.25  \n",
       "3                     0.15                  693.30  \n",
       "4                     0.25                  741.93  \n",
       "5                     0.18                  789.88  \n",
       "6                     0.15                  847.34  \n",
       "7                     0.15                  911.85  \n",
       "8                     0.14                  982.62  \n",
       "9                     0.15                 1066.33  "
      ]
     },
     "execution_count": 2,
     "metadata": {},
     "output_type": "execute_result"
    }
   ],
   "source": [
    "df = pd.read_csv(\"expenses-trend.csv\")\n",
    "df.head(10)"
   ]
  },
  {
   "cell_type": "code",
   "execution_count": 3,
   "metadata": {},
   "outputs": [],
   "source": [
    "df[\"Year\"]=df['Year'].astype(int)"
   ]
  },
  {
   "cell_type": "code",
   "execution_count": 4,
   "metadata": {},
   "outputs": [
    {
     "data": {
      "text/html": [
       "<div>\n",
       "<style scoped>\n",
       "    .dataframe tbody tr th:only-of-type {\n",
       "        vertical-align: middle;\n",
       "    }\n",
       "\n",
       "    .dataframe tbody tr th {\n",
       "        vertical-align: top;\n",
       "    }\n",
       "\n",
       "    .dataframe thead th {\n",
       "        text-align: right;\n",
       "    }\n",
       "</style>\n",
       "<table border=\"1\" class=\"dataframe\">\n",
       "  <thead>\n",
       "    <tr style=\"text-align: right;\">\n",
       "      <th></th>\n",
       "      <th>Year</th>\n",
       "      <th>Administration - D.No.4</th>\n",
       "      <th>Repairs and Maintenance - D.No.5</th>\n",
       "      <th>Operation Staff - D.No.6</th>\n",
       "      <th>Operation Fuel - D.No.7</th>\n",
       "      <th>Operation Other than Staff and Fuel - D.No.8</th>\n",
       "      <th>Misc. Expenses - D.No.9</th>\n",
       "      <th>Labour Welfare - D.No.10</th>\n",
       "      <th>Total - D.Nos.4 to 10</th>\n",
       "      <th>Appropriation to Depreciation Reserve Fund</th>\n",
       "      <th>Appropriation to Railway Pension Fund</th>\n",
       "      <th>Total Working Exp. Incl. App. to DRF and PF</th>\n",
       "      <th>Suspense</th>\n",
       "      <th>Payment to Worked Lines</th>\n",
       "      <th>Total Working Expenses</th>\n",
       "    </tr>\n",
       "  </thead>\n",
       "  <tbody>\n",
       "    <tr>\n",
       "      <th>count</th>\n",
       "      <td>15.000000</td>\n",
       "      <td>15.000000</td>\n",
       "      <td>15.00000</td>\n",
       "      <td>15.000000</td>\n",
       "      <td>15.000000</td>\n",
       "      <td>15.000000</td>\n",
       "      <td>15.000000</td>\n",
       "      <td>15.000000</td>\n",
       "      <td>15.000000</td>\n",
       "      <td>15.000000</td>\n",
       "      <td>15.000000</td>\n",
       "      <td>15.000000</td>\n",
       "      <td>15.000000</td>\n",
       "      <td>15.000000</td>\n",
       "      <td>15.000000</td>\n",
       "    </tr>\n",
       "    <tr>\n",
       "      <th>mean</th>\n",
       "      <td>1971.000000</td>\n",
       "      <td>99.788000</td>\n",
       "      <td>343.04200</td>\n",
       "      <td>199.052667</td>\n",
       "      <td>179.443333</td>\n",
       "      <td>50.320000</td>\n",
       "      <td>39.505333</td>\n",
       "      <td>33.648000</td>\n",
       "      <td>944.799333</td>\n",
       "      <td>108.866667</td>\n",
       "      <td>19.180667</td>\n",
       "      <td>1072.846667</td>\n",
       "      <td>-3.235333</td>\n",
       "      <td>0.173333</td>\n",
       "      <td>1069.784667</td>\n",
       "    </tr>\n",
       "    <tr>\n",
       "      <th>std</th>\n",
       "      <td>4.472136</td>\n",
       "      <td>40.283852</td>\n",
       "      <td>182.33849</td>\n",
       "      <td>89.773638</td>\n",
       "      <td>72.917858</td>\n",
       "      <td>24.279287</td>\n",
       "      <td>12.525312</td>\n",
       "      <td>14.785534</td>\n",
       "      <td>435.124685</td>\n",
       "      <td>19.010774</td>\n",
       "      <td>12.185573</td>\n",
       "      <td>464.121062</td>\n",
       "      <td>3.306530</td>\n",
       "      <td>0.030861</td>\n",
       "      <td>462.769433</td>\n",
       "    </tr>\n",
       "    <tr>\n",
       "      <th>min</th>\n",
       "      <td>1964.000000</td>\n",
       "      <td>49.280000</td>\n",
       "      <td>139.38000</td>\n",
       "      <td>89.470000</td>\n",
       "      <td>92.070000</td>\n",
       "      <td>23.730000</td>\n",
       "      <td>24.870000</td>\n",
       "      <td>16.190000</td>\n",
       "      <td>434.990000</td>\n",
       "      <td>83.000000</td>\n",
       "      <td>9.900000</td>\n",
       "      <td>529.490000</td>\n",
       "      <td>-12.060000</td>\n",
       "      <td>0.140000</td>\n",
       "      <td>528.110000</td>\n",
       "    </tr>\n",
       "    <tr>\n",
       "      <th>25%</th>\n",
       "      <td>1967.500000</td>\n",
       "      <td>68.760000</td>\n",
       "      <td>199.59500</td>\n",
       "      <td>128.725000</td>\n",
       "      <td>133.470000</td>\n",
       "      <td>32.650000</td>\n",
       "      <td>28.770000</td>\n",
       "      <td>22.350000</td>\n",
       "      <td>614.305000</td>\n",
       "      <td>95.000000</td>\n",
       "      <td>11.440000</td>\n",
       "      <td>719.220000</td>\n",
       "      <td>-4.385000</td>\n",
       "      <td>0.150000</td>\n",
       "      <td>717.615000</td>\n",
       "    </tr>\n",
       "    <tr>\n",
       "      <th>50%</th>\n",
       "      <td>1971.000000</td>\n",
       "      <td>87.640000</td>\n",
       "      <td>272.74000</td>\n",
       "      <td>175.750000</td>\n",
       "      <td>155.920000</td>\n",
       "      <td>41.950000</td>\n",
       "      <td>36.230000</td>\n",
       "      <td>28.450000</td>\n",
       "      <td>799.190000</td>\n",
       "      <td>105.000000</td>\n",
       "      <td>14.850000</td>\n",
       "      <td>915.570000</td>\n",
       "      <td>-1.830000</td>\n",
       "      <td>0.160000</td>\n",
       "      <td>911.850000</td>\n",
       "    </tr>\n",
       "    <tr>\n",
       "      <th>75%</th>\n",
       "      <td>1974.500000</td>\n",
       "      <td>140.985000</td>\n",
       "      <td>505.18000</td>\n",
       "      <td>288.620000</td>\n",
       "      <td>225.770000</td>\n",
       "      <td>72.855000</td>\n",
       "      <td>52.185000</td>\n",
       "      <td>48.000000</td>\n",
       "      <td>1335.120000</td>\n",
       "      <td>115.000000</td>\n",
       "      <td>20.050000</td>\n",
       "      <td>1470.170000</td>\n",
       "      <td>-1.525000</td>\n",
       "      <td>0.190000</td>\n",
       "      <td>1463.450000</td>\n",
       "    </tr>\n",
       "    <tr>\n",
       "      <th>max</th>\n",
       "      <td>1978.000000</td>\n",
       "      <td>162.030000</td>\n",
       "      <td>653.65000</td>\n",
       "      <td>355.000000</td>\n",
       "      <td>307.160000</td>\n",
       "      <td>87.950000</td>\n",
       "      <td>58.130000</td>\n",
       "      <td>57.750000</td>\n",
       "      <td>1678.070000</td>\n",
       "      <td>145.000000</td>\n",
       "      <td>49.200000</td>\n",
       "      <td>1872.270000</td>\n",
       "      <td>0.200000</td>\n",
       "      <td>0.250000</td>\n",
       "      <td>1867.550000</td>\n",
       "    </tr>\n",
       "  </tbody>\n",
       "</table>\n",
       "</div>"
      ],
      "text/plain": [
       "              Year  Administration - D.No.4  Repairs and Maintenance - D.No.5  \\\n",
       "count    15.000000                15.000000                          15.00000   \n",
       "mean   1971.000000                99.788000                         343.04200   \n",
       "std       4.472136                40.283852                         182.33849   \n",
       "min    1964.000000                49.280000                         139.38000   \n",
       "25%    1967.500000                68.760000                         199.59500   \n",
       "50%    1971.000000                87.640000                         272.74000   \n",
       "75%    1974.500000               140.985000                         505.18000   \n",
       "max    1978.000000               162.030000                         653.65000   \n",
       "\n",
       "       Operation Staff - D.No.6  Operation Fuel - D.No.7  \\\n",
       "count                 15.000000                15.000000   \n",
       "mean                 199.052667               179.443333   \n",
       "std                   89.773638                72.917858   \n",
       "min                   89.470000                92.070000   \n",
       "25%                  128.725000               133.470000   \n",
       "50%                  175.750000               155.920000   \n",
       "75%                  288.620000               225.770000   \n",
       "max                  355.000000               307.160000   \n",
       "\n",
       "       Operation Other than Staff and Fuel - D.No.8  Misc. Expenses - D.No.9  \\\n",
       "count                                     15.000000                15.000000   \n",
       "mean                                      50.320000                39.505333   \n",
       "std                                       24.279287                12.525312   \n",
       "min                                       23.730000                24.870000   \n",
       "25%                                       32.650000                28.770000   \n",
       "50%                                       41.950000                36.230000   \n",
       "75%                                       72.855000                52.185000   \n",
       "max                                       87.950000                58.130000   \n",
       "\n",
       "       Labour Welfare - D.No.10  Total - D.Nos.4 to 10  \\\n",
       "count                 15.000000              15.000000   \n",
       "mean                  33.648000             944.799333   \n",
       "std                   14.785534             435.124685   \n",
       "min                   16.190000             434.990000   \n",
       "25%                   22.350000             614.305000   \n",
       "50%                   28.450000             799.190000   \n",
       "75%                   48.000000            1335.120000   \n",
       "max                   57.750000            1678.070000   \n",
       "\n",
       "       Appropriation to Depreciation Reserve Fund  \\\n",
       "count                                   15.000000   \n",
       "mean                                   108.866667   \n",
       "std                                     19.010774   \n",
       "min                                     83.000000   \n",
       "25%                                     95.000000   \n",
       "50%                                    105.000000   \n",
       "75%                                    115.000000   \n",
       "max                                    145.000000   \n",
       "\n",
       "       Appropriation to Railway Pension Fund  \\\n",
       "count                              15.000000   \n",
       "mean                               19.180667   \n",
       "std                                12.185573   \n",
       "min                                 9.900000   \n",
       "25%                                11.440000   \n",
       "50%                                14.850000   \n",
       "75%                                20.050000   \n",
       "max                                49.200000   \n",
       "\n",
       "       Total Working Exp. Incl. App. to DRF and PF   Suspense  \\\n",
       "count                                    15.000000  15.000000   \n",
       "mean                                   1072.846667  -3.235333   \n",
       "std                                     464.121062   3.306530   \n",
       "min                                     529.490000 -12.060000   \n",
       "25%                                     719.220000  -4.385000   \n",
       "50%                                     915.570000  -1.830000   \n",
       "75%                                    1470.170000  -1.525000   \n",
       "max                                    1872.270000   0.200000   \n",
       "\n",
       "       Payment to Worked Lines  Total Working Expenses  \n",
       "count                15.000000               15.000000  \n",
       "mean                  0.173333             1069.784667  \n",
       "std                   0.030861              462.769433  \n",
       "min                   0.140000              528.110000  \n",
       "25%                   0.150000              717.615000  \n",
       "50%                   0.160000              911.850000  \n",
       "75%                   0.190000             1463.450000  \n",
       "max                   0.250000             1867.550000  "
      ]
     },
     "execution_count": 4,
     "metadata": {},
     "output_type": "execute_result"
    }
   ],
   "source": [
    "df.describe()"
   ]
  },
  {
   "cell_type": "code",
   "execution_count": 5,
   "metadata": {},
   "outputs": [
    {
     "name": "stdout",
     "output_type": "stream",
     "text": [
      "<class 'pandas.core.frame.DataFrame'>\n",
      "RangeIndex: 15 entries, 0 to 14\n",
      "Data columns (total 15 columns):\n",
      " #   Column                                        Non-Null Count  Dtype  \n",
      "---  ------                                        --------------  -----  \n",
      " 0   Year                                          15 non-null     int64  \n",
      " 1   Administration - D.No.4                       15 non-null     float64\n",
      " 2   Repairs and Maintenance - D.No.5              15 non-null     float64\n",
      " 3   Operation Staff - D.No.6                      15 non-null     float64\n",
      " 4   Operation Fuel - D.No.7                       15 non-null     float64\n",
      " 5   Operation Other than Staff and Fuel - D.No.8  15 non-null     float64\n",
      " 6   Misc. Expenses - D.No.9                       15 non-null     float64\n",
      " 7   Labour Welfare - D.No.10                      15 non-null     float64\n",
      " 8   Total - D.Nos.4 to 10                         15 non-null     float64\n",
      " 9   Appropriation to Depreciation Reserve Fund    15 non-null     float64\n",
      " 10  Appropriation to Railway Pension Fund         15 non-null     float64\n",
      " 11  Total Working Exp. Incl. App. to DRF and PF   15 non-null     float64\n",
      " 12  Suspense                                      15 non-null     float64\n",
      " 13  Payment to Worked Lines                       15 non-null     float64\n",
      " 14  Total Working Expenses                        15 non-null     float64\n",
      "dtypes: float64(14), int64(1)\n",
      "memory usage: 1.9 KB\n"
     ]
    }
   ],
   "source": [
    "df.info()"
   ]
  },
  {
   "cell_type": "code",
   "execution_count": 6,
   "metadata": {},
   "outputs": [
    {
     "data": {
      "text/plain": [
       "(15, 15)"
      ]
     },
     "execution_count": 6,
     "metadata": {},
     "output_type": "execute_result"
    }
   ],
   "source": [
    "df.shape"
   ]
  },
  {
   "cell_type": "code",
   "execution_count": 7,
   "metadata": {},
   "outputs": [
    {
     "data": {
      "text/plain": [
       "Year                                            False\n",
       "Administration - D.No.4                         False\n",
       "Repairs and Maintenance - D.No.5                False\n",
       "Operation Staff - D.No.6                        False\n",
       "Operation Fuel - D.No.7                         False\n",
       "Operation Other than Staff and Fuel - D.No.8    False\n",
       "Misc. Expenses - D.No.9                         False\n",
       "Labour Welfare - D.No.10                        False\n",
       "Total - D.Nos.4 to 10                           False\n",
       "Appropriation to Depreciation Reserve Fund      False\n",
       "Appropriation to Railway Pension Fund           False\n",
       "Total Working Exp. Incl. App. to DRF and PF     False\n",
       "Suspense                                        False\n",
       "Payment to Worked Lines                         False\n",
       "Total Working Expenses                          False\n",
       "dtype: bool"
      ]
     },
     "execution_count": 7,
     "metadata": {},
     "output_type": "execute_result"
    }
   ],
   "source": [
    "df.isnull().any()"
   ]
  },
  {
   "cell_type": "code",
   "execution_count": 8,
   "metadata": {},
   "outputs": [
    {
     "data": {
      "text/plain": [
       "1964    1\n",
       "1965    1\n",
       "1966    1\n",
       "1967    1\n",
       "1968    1\n",
       "1969    1\n",
       "1970    1\n",
       "1971    1\n",
       "1972    1\n",
       "1973    1\n",
       "1974    1\n",
       "1975    1\n",
       "1976    1\n",
       "1977    1\n",
       "1978    1\n",
       "Name: Year, dtype: int64"
      ]
     },
     "execution_count": 8,
     "metadata": {},
     "output_type": "execute_result"
    }
   ],
   "source": [
    "df[\"Year\"].value_counts()"
   ]
  },
  {
   "cell_type": "code",
   "execution_count": 9,
   "metadata": {},
   "outputs": [
    {
     "data": {
      "text/plain": [
       "528.11     1\n",
       "583.03     1\n",
       "639.25     1\n",
       "693.30     1\n",
       "741.93     1\n",
       "789.88     1\n",
       "847.34     1\n",
       "911.85     1\n",
       "982.62     1\n",
       "1066.33    1\n",
       "1317.29    1\n",
       "1609.61    1\n",
       "1718.56    1\n",
       "1750.12    1\n",
       "1867.55    1\n",
       "Name: Total Working Expenses, dtype: int64"
      ]
     },
     "execution_count": 9,
     "metadata": {},
     "output_type": "execute_result"
    }
   ],
   "source": [
    "df[\"Total Working Expenses\"].value_counts()"
   ]
  },
  {
   "cell_type": "code",
   "execution_count": 10,
   "metadata": {},
   "outputs": [],
   "source": [
    "y = df['Total Working Expenses']\n",
    "X = df['Year']"
   ]
  },
  {
   "cell_type": "code",
   "execution_count": 11,
   "metadata": {},
   "outputs": [],
   "source": [
    "from sklearn.model_selection import train_test_split\n",
    "X_train, X_test , y_train, y_test = train_test_split(X, y , train_size = 0.7, test_size = 0.3 , random_state =100)\n"
   ]
  },
  {
   "cell_type": "code",
   "execution_count": 12,
   "metadata": {},
   "outputs": [
    {
     "data": {
      "text/plain": [
       "10    1317.29\n",
       "5      789.88\n",
       "2      639.25\n",
       "4      741.93\n",
       "0      528.11\n",
       "11    1609.61\n",
       "7      911.85\n",
       "3      693.30\n",
       "14    1867.55\n",
       "8      982.62\n",
       "Name: Total Working Expenses, dtype: float64"
      ]
     },
     "execution_count": 12,
     "metadata": {},
     "output_type": "execute_result"
    }
   ],
   "source": [
    "X_train\n",
    "y_train"
   ]
  },
  {
   "cell_type": "code",
   "execution_count": 13,
   "metadata": {},
   "outputs": [],
   "source": [
    "import statsmodels.api as sm\n",
    "X_train_sm = sm.add_constant(X_train)"
   ]
  },
  {
   "cell_type": "code",
   "execution_count": 14,
   "metadata": {},
   "outputs": [
    {
     "data": {
      "text/plain": [
       "const   -191318.763624\n",
       "Year         97.608050\n",
       "dtype: float64"
      ]
     },
     "execution_count": 14,
     "metadata": {},
     "output_type": "execute_result"
    }
   ],
   "source": [
    "lr = sm.OLS(y_train , X_train_sm).fit()\n",
    "lr.params"
   ]
  },
  {
   "cell_type": "code",
   "execution_count": 15,
   "metadata": {},
   "outputs": [
    {
     "name": "stderr",
     "output_type": "stream",
     "text": [
      "/usr/lib/python3.10/site-packages/scipy/stats/_stats_py.py:1477: UserWarning: kurtosistest only valid for n>=20 ... continuing anyway, n=10\n",
      "  warnings.warn(\"kurtosistest only valid for n>=20 ... continuing \"\n"
     ]
    },
    {
     "data": {
      "text/html": [
       "<table class=\"simpletable\">\n",
       "<caption>OLS Regression Results</caption>\n",
       "<tr>\n",
       "  <th>Dep. Variable:</th>    <td>Total Working Expenses</td> <th>  R-squared:         </th> <td>   0.928</td>\n",
       "</tr>\n",
       "<tr>\n",
       "  <th>Model:</th>                      <td>OLS</td>          <th>  Adj. R-squared:    </th> <td>   0.919</td>\n",
       "</tr>\n",
       "<tr>\n",
       "  <th>Method:</th>                <td>Least Squares</td>     <th>  F-statistic:       </th> <td>   103.5</td>\n",
       "</tr>\n",
       "<tr>\n",
       "  <th>Date:</th>                <td>Mon, 18 Apr 2022</td>    <th>  Prob (F-statistic):</th> <td>7.46e-06</td>\n",
       "</tr>\n",
       "<tr>\n",
       "  <th>Time:</th>                    <td>23:39:42</td>        <th>  Log-Likelihood:    </th> <td> -61.492</td>\n",
       "</tr>\n",
       "<tr>\n",
       "  <th>No. Observations:</th>         <td>    10</td>         <th>  AIC:               </th> <td>   127.0</td>\n",
       "</tr>\n",
       "<tr>\n",
       "  <th>Df Residuals:</th>             <td>     8</td>         <th>  BIC:               </th> <td>   127.6</td>\n",
       "</tr>\n",
       "<tr>\n",
       "  <th>Df Model:</th>                 <td>     1</td>         <th>                     </th>     <td> </td>   \n",
       "</tr>\n",
       "<tr>\n",
       "  <th>Covariance Type:</th>         <td>nonrobust</td>       <th>                     </th>     <td> </td>   \n",
       "</tr>\n",
       "</table>\n",
       "<table class=\"simpletable\">\n",
       "<tr>\n",
       "    <td></td>       <th>coef</th>     <th>std err</th>      <th>t</th>      <th>P>|t|</th>  <th>[0.025</th>    <th>0.975]</th>  \n",
       "</tr>\n",
       "<tr>\n",
       "  <th>const</th> <td>-1.913e+05</td> <td> 1.89e+04</td> <td>  -10.121</td> <td> 0.000</td> <td>-2.35e+05</td> <td>-1.48e+05</td>\n",
       "</tr>\n",
       "<tr>\n",
       "  <th>Year</th>  <td>   97.6081</td> <td>    9.594</td> <td>   10.174</td> <td> 0.000</td> <td>   75.484</td> <td>  119.732</td>\n",
       "</tr>\n",
       "</table>\n",
       "<table class=\"simpletable\">\n",
       "<tr>\n",
       "  <th>Omnibus:</th>       <td> 1.122</td> <th>  Durbin-Watson:     </th> <td>   2.221</td>\n",
       "</tr>\n",
       "<tr>\n",
       "  <th>Prob(Omnibus):</th> <td> 0.571</td> <th>  Jarque-Bera (JB):  </th> <td>   0.674</td>\n",
       "</tr>\n",
       "<tr>\n",
       "  <th>Skew:</th>          <td>-0.133</td> <th>  Prob(JB):          </th> <td>   0.714</td>\n",
       "</tr>\n",
       "<tr>\n",
       "  <th>Kurtosis:</th>      <td> 1.756</td> <th>  Cond. No.          </th> <td>9.30e+05</td>\n",
       "</tr>\n",
       "</table><br/><br/>Notes:<br/>[1] Standard Errors assume that the covariance matrix of the errors is correctly specified.<br/>[2] The condition number is large, 9.3e+05. This might indicate that there are<br/>strong multicollinearity or other numerical problems."
      ],
      "text/plain": [
       "<class 'statsmodels.iolib.summary.Summary'>\n",
       "\"\"\"\n",
       "                              OLS Regression Results                              \n",
       "==================================================================================\n",
       "Dep. Variable:     Total Working Expenses   R-squared:                       0.928\n",
       "Model:                                OLS   Adj. R-squared:                  0.919\n",
       "Method:                     Least Squares   F-statistic:                     103.5\n",
       "Date:                    Mon, 18 Apr 2022   Prob (F-statistic):           7.46e-06\n",
       "Time:                            23:39:42   Log-Likelihood:                -61.492\n",
       "No. Observations:                      10   AIC:                             127.0\n",
       "Df Residuals:                           8   BIC:                             127.6\n",
       "Df Model:                               1                                         \n",
       "Covariance Type:                nonrobust                                         \n",
       "==============================================================================\n",
       "                 coef    std err          t      P>|t|      [0.025      0.975]\n",
       "------------------------------------------------------------------------------\n",
       "const      -1.913e+05   1.89e+04    -10.121      0.000   -2.35e+05   -1.48e+05\n",
       "Year          97.6081      9.594     10.174      0.000      75.484     119.732\n",
       "==============================================================================\n",
       "Omnibus:                        1.122   Durbin-Watson:                   2.221\n",
       "Prob(Omnibus):                  0.571   Jarque-Bera (JB):                0.674\n",
       "Skew:                          -0.133   Prob(JB):                        0.714\n",
       "Kurtosis:                       1.756   Cond. No.                     9.30e+05\n",
       "==============================================================================\n",
       "\n",
       "Notes:\n",
       "[1] Standard Errors assume that the covariance matrix of the errors is correctly specified.\n",
       "[2] The condition number is large, 9.3e+05. This might indicate that there are\n",
       "strong multicollinearity or other numerical problems.\n",
       "\"\"\""
      ]
     },
     "execution_count": 15,
     "metadata": {},
     "output_type": "execute_result"
    }
   ],
   "source": [
    "lr.summary()"
   ]
  },
  {
   "cell_type": "code",
   "execution_count": 16,
   "metadata": {},
   "outputs": [
    {
     "data": {
      "image/png": "[encoded data removed]",
      "text/plain": [
       "<Figure size 432x288 with 1 Axes>"
      ]
     },
     "metadata": {},
     "output_type": "display_data"
    }
   ],
   "source": [
    "plt.scatter(X_train , y_train)\n",
    "plt.plot(X_train,-1.913e+05 + 97.6081*X_train , 'r' )\n",
    "plt.show()"
   ]
  },
  {
   "cell_type": "code",
   "execution_count": 17,
   "metadata": {},
   "outputs": [],
   "source": [
    "y_train_pred = lr.predict(X_train_sm)\n"
   ]
  },
  {
   "cell_type": "code",
   "execution_count": 18,
   "metadata": {},
   "outputs": [
    {
     "data": {
      "text/plain": [
       "9     1973\n",
       "1     1965\n",
       "12    1976\n",
       "13    1977\n",
       "6     1970\n",
       "Name: Year, dtype: int64"
      ]
     },
     "execution_count": 18,
     "metadata": {},
     "output_type": "execute_result"
    }
   ],
   "source": [
    "X_test"
   ]
  },
  {
   "cell_type": "code",
   "execution_count": 19,
   "metadata": {},
   "outputs": [
    {
     "data": {
      "text/plain": [
       "9     1261.919931\n",
       "1      481.055528\n",
       "12    1554.744083\n",
       "13    1652.352133\n",
       "6      969.095780\n",
       "dtype: float64"
      ]
     },
     "execution_count": 19,
     "metadata": {},
     "output_type": "execute_result"
    }
   ],
   "source": [
    "X_test_sm = sm.add_constant(X_test)\n",
    "y_test_pred = lr.predict(X_test_sm)\n",
    "y_test_pred"
   ]
  },
  {
   "cell_type": "code",
   "execution_count": 20,
   "metadata": {},
   "outputs": [
    {
     "data": {
      "text/plain": [
       "0.9087239829596983"
      ]
     },
     "execution_count": 20,
     "metadata": {},
     "output_type": "execute_result"
    }
   ],
   "source": [
    "from sklearn.metrics import r2_score\n",
    "r_squared = r2_score(y_test,y_test_pred)\n",
    "r_squared"
   ]
  },
  {
   "cell_type": "code",
   "execution_count": 21,
   "metadata": {},
   "outputs": [
    {
     "data": {
      "image/png": "[encoded data removed]",
      "text/plain": [
       "<Figure size 432x288 with 1 Axes>"
      ]
     },
     "metadata": {},
     "output_type": "display_data"
    }
   ],
   "source": [
    "plt.scatter(X_test,y_test)\n",
    "plt.plot(X_test,y_test_pred,'r')\n",
    "plt.show()"
   ]
  },
  {
   "cell_type": "code",
   "execution_count": null,
   "metadata": {},
   "outputs": [],
   "source": []
  },
  {
   "cell_type": "code",
   "execution_count": 22,
   "metadata": {},
   "outputs": [],
   "source": [
    "cutoff = 0.7\n",
    "y_test_pred = np.zeros_like(y_test_pred)\n",
    "y_test_pred[y_test_pred > cutoff] = 1"
   ]
  },
  {
   "cell_type": "code",
   "execution_count": 23,
   "metadata": {},
   "outputs": [],
   "source": [
    "y_test = np.zeros_like(y_test_pred)\n",
    "y_test[y_test> cutoff] = 1"
   ]
  },
  {
   "cell_type": "code",
   "execution_count": 24,
   "metadata": {},
   "outputs": [
    {
     "data": {
      "image/png": "[encoded data removed]",
      "text/plain": [
       "<Figure size 720x720 with 2 Axes>"
      ]
     },
     "metadata": {},
     "output_type": "display_data"
    }
   ],
   "source": [
    "from sklearn.metrics import confusion_matrix\n",
    "plt.rcParams['figure.figsize']= (10,10)\n",
    "cm = confusion_matrix(y_test,y_test_pred)\n",
    "sns.heatmap(cm , annot = True ,cmap ='Wistia')\n",
    "plt.title('Confusion Matrix for Logistic Regression', fontsize = 15)\n",
    "plt.show()"
   ]
  },
  {
   "cell_type": "code",
   "execution_count": 25,
   "metadata": {},
   "outputs": [
    {
     "name": "stdout",
     "output_type": "stream",
     "text": [
      "              precision    recall  f1-score   support\n",
      "\n",
      "         0.0       1.00      1.00      1.00         5\n",
      "\n",
      "    accuracy                           1.00         5\n",
      "   macro avg       1.00      1.00      1.00         5\n",
      "weighted avg       1.00      1.00      1.00         5\n",
      "\n"
     ]
    }
   ],
   "source": [
    "from sklearn.metrics import classification_report\n",
    "cr = classification_report(y_test , y_test_pred)\n",
    "print(cr)"
   ]
  },
  {
   "cell_type": "code",
   "execution_count": null,
   "metadata": {},
   "outputs": [],
   "source": []
  },
  {
   "cell_type": "code",
   "execution_count": 26,
   "metadata": {},
   "outputs": [
    {
     "data": {
      "text/plain": [
       "9     1261.919931\n",
       "1      481.055528\n",
       "12    1554.744083\n",
       "13    1652.352133\n",
       "6      969.095780\n",
       "dtype: float64"
      ]
     },
     "execution_count": 26,
     "metadata": {},
     "output_type": "execute_result"
    }
   ],
   "source": [
    "X_test_sm = sm.add_constant(X_test)\n",
    "y_test_pred = lr.predict(X_test_sm)\n",
    "y_test_pred"
   ]
  },
  {
   "cell_type": "markdown",
   "metadata": {},
   "source": [
    "## linear regression using sk learn"
   ]
  },
  {
   "cell_type": "code",
   "execution_count": 27,
   "metadata": {},
   "outputs": [],
   "source": [
    "from sklearn.model_selection import train_test_split\n",
    "X_train, X_test, y_train, y_test = train_test_split(X, y, train_size = 0.7, \n",
    "                                                    test_size = 0.3, random_state = 100)"
   ]
  },
  {
   "cell_type": "code",
   "execution_count": 28,
   "metadata": {},
   "outputs": [
    {
     "data": {
      "text/plain": [
       "10    1317.29\n",
       "5      789.88\n",
       "2      639.25\n",
       "4      741.93\n",
       "0      528.11\n",
       "11    1609.61\n",
       "7      911.85\n",
       "3      693.30\n",
       "14    1867.55\n",
       "8      982.62\n",
       "Name: Total Working Expenses, dtype: float64"
      ]
     },
     "execution_count": 28,
     "metadata": {},
     "output_type": "execute_result"
    }
   ],
   "source": [
    "X_train\n",
    "y_train"
   ]
  },
  {
   "cell_type": "code",
   "execution_count": 29,
   "metadata": {},
   "outputs": [],
   "source": [
    "from sklearn.model_selection import train_test_split\n",
    "X_train_lm, X_test_lm, y_train_lm, y_test_lm = train_test_split(X, y, train_size = 0.7, \n",
    "                                                                test_size = 0.3, random_state = 100)\n"
   ]
  },
  {
   "cell_type": "code",
   "execution_count": 30,
   "metadata": {},
   "outputs": [
    {
     "name": "stdout",
     "output_type": "stream",
     "text": [
      "(10, 1)\n",
      "(5, 1)\n"
     ]
    }
   ],
   "source": [
    "X_train_lm.shape\n",
    "\n",
    "# Adding additional column to the train and test data\n",
    "X_train_lm = X_train_lm.values.reshape(-1,1)\n",
    "X_test_lm = X_test_lm.values.reshape(-1,1)\n",
    "\n",
    "print(X_train_lm.shape)\n",
    "print(X_test_lm.shape)"
   ]
  },
  {
   "cell_type": "code",
   "execution_count": 31,
   "metadata": {},
   "outputs": [
    {
     "data": {
      "text/plain": [
       "LinearRegression()"
      ]
     },
     "execution_count": 31,
     "metadata": {},
     "output_type": "execute_result"
    }
   ],
   "source": [
    "from sklearn.linear_model import LinearRegression\n",
    "\n",
    "# Creating an object of Linear Regression\n",
    "lm = LinearRegression()\n",
    "\n",
    "# Fit the model using .fit() method\n",
    "lm.fit(X_train_lm, y_train_lm)"
   ]
  },
  {
   "cell_type": "code",
   "execution_count": 32,
   "metadata": {},
   "outputs": [
    {
     "name": "stdout",
     "output_type": "stream",
     "text": [
      "Intercept : -191318.7636238532\n",
      "Slope : [97.60805046]\n"
     ]
    }
   ],
   "source": [
    "# Intercept value\n",
    "print(\"Intercept :\",lm.intercept_)\n",
    "\n",
    "# Slope value\n",
    "print('Slope :',lm.coef_)"
   ]
  },
  {
   "cell_type": "code",
   "execution_count": 33,
   "metadata": {},
   "outputs": [
    {
     "name": "stdout",
     "output_type": "stream",
     "text": [
      "0.9282564985722215\n",
      "0.9087239829596924\n"
     ]
    }
   ],
   "source": [
    "y_train_pred = lm.predict(X_train_lm)\n",
    "y_test_pred = lm.predict(X_test_lm)\n",
    "\n",
    "# Comparing the r2 value of both train and test data\n",
    "print(r2_score(y_train,y_train_pred))\n",
    "print(r2_score(y_test,y_test_pred))"
   ]
  },
  {
   "cell_type": "code",
   "execution_count": 34,
   "metadata": {},
   "outputs": [],
   "source": [
    "prediction= lm.predict((np.array([[1976]])))"
   ]
  },
  {
   "cell_type": "code",
   "execution_count": 35,
   "metadata": {},
   "outputs": [
    {
     "name": "stdout",
     "output_type": "stream",
     "text": [
      "the predicted expense for given year is: [1554.74408257]\n"
     ]
    }
   ],
   "source": [
    "print(\"the predicted expense for given year is:\", prediction)"
   ]
  },
  {
   "cell_type": "code",
   "execution_count": 36,
   "metadata": {},
   "outputs": [
    {
     "name": "stdout",
     "output_type": "stream",
     "text": [
      "the predicted expense for given year is: [5849.49830275]\n"
     ]
    }
   ],
   "source": [
    "prediction= lm.predict((np.array([[2020]])))\n",
    "print(\"the predicted expense for given year is:\", prediction)"
   ]
  },
  {
   "cell_type": "markdown",
   "metadata": {},
   "source": [
    "## random forest"
   ]
  },
  {
   "cell_type": "code",
   "execution_count": 37,
   "metadata": {},
   "outputs": [],
   "source": [
    "# One-hot encode the data using pandas get_dummie\n",
    "#df= pd.get_dummies(df)\n",
    "# Display the first 5 rows of the last 12 columns\n",
    "#df.iloc[:,5:].head(10)"
   ]
  },
  {
   "cell_type": "code",
   "execution_count": 38,
   "metadata": {},
   "outputs": [
    {
     "data": {
      "text/html": [
       "<div>\n",
       "<style scoped>\n",
       "    .dataframe tbody tr th:only-of-type {\n",
       "        vertical-align: middle;\n",
       "    }\n",
       "\n",
       "    .dataframe tbody tr th {\n",
       "        vertical-align: top;\n",
       "    }\n",
       "\n",
       "    .dataframe thead th {\n",
       "        text-align: right;\n",
       "    }\n",
       "</style>\n",
       "<table border=\"1\" class=\"dataframe\">\n",
       "  <thead>\n",
       "    <tr style=\"text-align: right;\">\n",
       "      <th></th>\n",
       "      <th>Year</th>\n",
       "      <th>Administration - D.No.4</th>\n",
       "      <th>Repairs and Maintenance - D.No.5</th>\n",
       "      <th>Operation Staff - D.No.6</th>\n",
       "      <th>Operation Fuel - D.No.7</th>\n",
       "      <th>Operation Other than Staff and Fuel - D.No.8</th>\n",
       "      <th>Misc. Expenses - D.No.9</th>\n",
       "      <th>Labour Welfare - D.No.10</th>\n",
       "      <th>Total - D.Nos.4 to 10</th>\n",
       "      <th>Appropriation to Depreciation Reserve Fund</th>\n",
       "      <th>Appropriation to Railway Pension Fund</th>\n",
       "      <th>Total Working Exp. Incl. App. to DRF and PF</th>\n",
       "      <th>Suspense</th>\n",
       "      <th>Payment to Worked Lines</th>\n",
       "      <th>Total Working Expenses</th>\n",
       "    </tr>\n",
       "  </thead>\n",
       "  <tbody>\n",
       "    <tr>\n",
       "      <th>count</th>\n",
       "      <td>15.000000</td>\n",
       "      <td>15.000000</td>\n",
       "      <td>15.00000</td>\n",
       "      <td>15.000000</td>\n",
       "      <td>15.000000</td>\n",
       "      <td>15.000000</td>\n",
       "      <td>15.000000</td>\n",
       "      <td>15.000000</td>\n",
       "      <td>15.000000</td>\n",
       "      <td>15.000000</td>\n",
       "      <td>15.000000</td>\n",
       "      <td>15.000000</td>\n",
       "      <td>15.000000</td>\n",
       "      <td>15.000000</td>\n",
       "      <td>15.000000</td>\n",
       "    </tr>\n",
       "    <tr>\n",
       "      <th>mean</th>\n",
       "      <td>1971.000000</td>\n",
       "      <td>99.788000</td>\n",
       "      <td>343.04200</td>\n",
       "      <td>199.052667</td>\n",
       "      <td>179.443333</td>\n",
       "      <td>50.320000</td>\n",
       "      <td>39.505333</td>\n",
       "      <td>33.648000</td>\n",
       "      <td>944.799333</td>\n",
       "      <td>108.866667</td>\n",
       "      <td>19.180667</td>\n",
       "      <td>1072.846667</td>\n",
       "      <td>-3.235333</td>\n",
       "      <td>0.173333</td>\n",
       "      <td>1069.784667</td>\n",
       "    </tr>\n",
       "    <tr>\n",
       "      <th>std</th>\n",
       "      <td>4.472136</td>\n",
       "      <td>40.283852</td>\n",
       "      <td>182.33849</td>\n",
       "      <td>89.773638</td>\n",
       "      <td>72.917858</td>\n",
       "      <td>24.279287</td>\n",
       "      <td>12.525312</td>\n",
       "      <td>14.785534</td>\n",
       "      <td>435.124685</td>\n",
       "      <td>19.010774</td>\n",
       "      <td>12.185573</td>\n",
       "      <td>464.121062</td>\n",
       "      <td>3.306530</td>\n",
       "      <td>0.030861</td>\n",
       "      <td>462.769433</td>\n",
       "    </tr>\n",
       "    <tr>\n",
       "      <th>min</th>\n",
       "      <td>1964.000000</td>\n",
       "      <td>49.280000</td>\n",
       "      <td>139.38000</td>\n",
       "      <td>89.470000</td>\n",
       "      <td>92.070000</td>\n",
       "      <td>23.730000</td>\n",
       "      <td>24.870000</td>\n",
       "      <td>16.190000</td>\n",
       "      <td>434.990000</td>\n",
       "      <td>83.000000</td>\n",
       "      <td>9.900000</td>\n",
       "      <td>529.490000</td>\n",
       "      <td>-12.060000</td>\n",
       "      <td>0.140000</td>\n",
       "      <td>528.110000</td>\n",
       "    </tr>\n",
       "    <tr>\n",
       "      <th>25%</th>\n",
       "      <td>1967.500000</td>\n",
       "      <td>68.760000</td>\n",
       "      <td>199.59500</td>\n",
       "      <td>128.725000</td>\n",
       "      <td>133.470000</td>\n",
       "      <td>32.650000</td>\n",
       "      <td>28.770000</td>\n",
       "      <td>22.350000</td>\n",
       "      <td>614.305000</td>\n",
       "      <td>95.000000</td>\n",
       "      <td>11.440000</td>\n",
       "      <td>719.220000</td>\n",
       "      <td>-4.385000</td>\n",
       "      <td>0.150000</td>\n",
       "      <td>717.615000</td>\n",
       "    </tr>\n",
       "    <tr>\n",
       "      <th>50%</th>\n",
       "      <td>1971.000000</td>\n",
       "      <td>87.640000</td>\n",
       "      <td>272.74000</td>\n",
       "      <td>175.750000</td>\n",
       "      <td>155.920000</td>\n",
       "      <td>41.950000</td>\n",
       "      <td>36.230000</td>\n",
       "      <td>28.450000</td>\n",
       "      <td>799.190000</td>\n",
       "      <td>105.000000</td>\n",
       "      <td>14.850000</td>\n",
       "      <td>915.570000</td>\n",
       "      <td>-1.830000</td>\n",
       "      <td>0.160000</td>\n",
       "      <td>911.850000</td>\n",
       "    </tr>\n",
       "    <tr>\n",
       "      <th>75%</th>\n",
       "      <td>1974.500000</td>\n",
       "      <td>140.985000</td>\n",
       "      <td>505.18000</td>\n",
       "      <td>288.620000</td>\n",
       "      <td>225.770000</td>\n",
       "      <td>72.855000</td>\n",
       "      <td>52.185000</td>\n",
       "      <td>48.000000</td>\n",
       "      <td>1335.120000</td>\n",
       "      <td>115.000000</td>\n",
       "      <td>20.050000</td>\n",
       "      <td>1470.170000</td>\n",
       "      <td>-1.525000</td>\n",
       "      <td>0.190000</td>\n",
       "      <td>1463.450000</td>\n",
       "    </tr>\n",
       "    <tr>\n",
       "      <th>max</th>\n",
       "      <td>1978.000000</td>\n",
       "      <td>162.030000</td>\n",
       "      <td>653.65000</td>\n",
       "      <td>355.000000</td>\n",
       "      <td>307.160000</td>\n",
       "      <td>87.950000</td>\n",
       "      <td>58.130000</td>\n",
       "      <td>57.750000</td>\n",
       "      <td>1678.070000</td>\n",
       "      <td>145.000000</td>\n",
       "      <td>49.200000</td>\n",
       "      <td>1872.270000</td>\n",
       "      <td>0.200000</td>\n",
       "      <td>0.250000</td>\n",
       "      <td>1867.550000</td>\n",
       "    </tr>\n",
       "  </tbody>\n",
       "</table>\n",
       "</div>"
      ],
      "text/plain": [
       "              Year  Administration - D.No.4  Repairs and Maintenance - D.No.5  \\\n",
       "count    15.000000                15.000000                          15.00000   \n",
       "mean   1971.000000                99.788000                         343.04200   \n",
       "std       4.472136                40.283852                         182.33849   \n",
       "min    1964.000000                49.280000                         139.38000   \n",
       "25%    1967.500000                68.760000                         199.59500   \n",
       "50%    1971.000000                87.640000                         272.74000   \n",
       "75%    1974.500000               140.985000                         505.18000   \n",
       "max    1978.000000               162.030000                         653.65000   \n",
       "\n",
       "       Operation Staff - D.No.6  Operation Fuel - D.No.7  \\\n",
       "count                 15.000000                15.000000   \n",
       "mean                 199.052667               179.443333   \n",
       "std                   89.773638                72.917858   \n",
       "min                   89.470000                92.070000   \n",
       "25%                  128.725000               133.470000   \n",
       "50%                  175.750000               155.920000   \n",
       "75%                  288.620000               225.770000   \n",
       "max                  355.000000               307.160000   \n",
       "\n",
       "       Operation Other than Staff and Fuel - D.No.8  Misc. Expenses - D.No.9  \\\n",
       "count                                     15.000000                15.000000   \n",
       "mean                                      50.320000                39.505333   \n",
       "std                                       24.279287                12.525312   \n",
       "min                                       23.730000                24.870000   \n",
       "25%                                       32.650000                28.770000   \n",
       "50%                                       41.950000                36.230000   \n",
       "75%                                       72.855000                52.185000   \n",
       "max                                       87.950000                58.130000   \n",
       "\n",
       "       Labour Welfare - D.No.10  Total - D.Nos.4 to 10  \\\n",
       "count                 15.000000              15.000000   \n",
       "mean                  33.648000             944.799333   \n",
       "std                   14.785534             435.124685   \n",
       "min                   16.190000             434.990000   \n",
       "25%                   22.350000             614.305000   \n",
       "50%                   28.450000             799.190000   \n",
       "75%                   48.000000            1335.120000   \n",
       "max                   57.750000            1678.070000   \n",
       "\n",
       "       Appropriation to Depreciation Reserve Fund  \\\n",
       "count                                   15.000000   \n",
       "mean                                   108.866667   \n",
       "std                                     19.010774   \n",
       "min                                     83.000000   \n",
       "25%                                     95.000000   \n",
       "50%                                    105.000000   \n",
       "75%                                    115.000000   \n",
       "max                                    145.000000   \n",
       "\n",
       "       Appropriation to Railway Pension Fund  \\\n",
       "count                              15.000000   \n",
       "mean                               19.180667   \n",
       "std                                12.185573   \n",
       "min                                 9.900000   \n",
       "25%                                11.440000   \n",
       "50%                                14.850000   \n",
       "75%                                20.050000   \n",
       "max                                49.200000   \n",
       "\n",
       "       Total Working Exp. Incl. App. to DRF and PF   Suspense  \\\n",
       "count                                    15.000000  15.000000   \n",
       "mean                                   1072.846667  -3.235333   \n",
       "std                                     464.121062   3.306530   \n",
       "min                                     529.490000 -12.060000   \n",
       "25%                                     719.220000  -4.385000   \n",
       "50%                                     915.570000  -1.830000   \n",
       "75%                                    1470.170000  -1.525000   \n",
       "max                                    1872.270000   0.200000   \n",
       "\n",
       "       Payment to Worked Lines  Total Working Expenses  \n",
       "count                15.000000               15.000000  \n",
       "mean                  0.173333             1069.784667  \n",
       "std                   0.030861              462.769433  \n",
       "min                   0.140000              528.110000  \n",
       "25%                   0.150000              717.615000  \n",
       "50%                   0.160000              911.850000  \n",
       "75%                   0.190000             1463.450000  \n",
       "max                   0.250000             1867.550000  "
      ]
     },
     "execution_count": 38,
     "metadata": {},
     "output_type": "execute_result"
    }
   ],
   "source": [
    "df.describe()"
   ]
  },
  {
   "cell_type": "code",
   "execution_count": 39,
   "metadata": {},
   "outputs": [],
   "source": [
    "# Use numpy to convert to arrays\n",
    "import numpy as np\n",
    "# Labels are the values we want to predict\n",
    "labels = np.array(df['Total Working Expenses'])\n",
    "# Remove the labels from the features\n",
    "# axis 1 refers to the columns\n",
    "df= df.drop('Total Working Expenses', axis = 1)\n",
    "# Saving feature names for later use\n",
    "df_list = list(df.columns)\n",
    "# Convert to numpy array\n",
    "df = np.array(df)"
   ]
  },
  {
   "cell_type": "code",
   "execution_count": 40,
   "metadata": {},
   "outputs": [],
   "source": [
    "# Using Skicit-learn to split data into training and testing sets\n",
    "from sklearn.model_selection import train_test_split\n",
    "# Split the data into training and testing sets\n",
    "train_df, test_df, train_labels, test_labels = train_test_split(df, labels, test_size = 0.25, random_state = 42)"
   ]
  },
  {
   "cell_type": "code",
   "execution_count": 41,
   "metadata": {},
   "outputs": [
    {
     "name": "stdout",
     "output_type": "stream",
     "text": [
      "Training df Shape: (11, 14)\n",
      "Training Labels Shape: (11,)\n",
      "Testing df Shape: (4, 14)\n",
      "Testing Labels Shape: (4,)\n"
     ]
    }
   ],
   "source": [
    "print('Training df Shape:', train_df.shape)\n",
    "print('Training Labels Shape:', train_labels.shape)\n",
    "print('Testing df Shape:', test_df.shape)\n",
    "print('Testing Labels Shape:', test_labels.shape)"
   ]
  },
  {
   "cell_type": "code",
   "execution_count": 42,
   "metadata": {},
   "outputs": [
    {
     "name": "stdout",
     "output_type": "stream",
     "text": [
      "Average baseline error:  733.71\n"
     ]
    }
   ],
   "source": [
    "# The baseline predictions are the historical averages\n",
    "baseline_preds = test_df[:, df_list.index('Year')]\n",
    "# Baseline errors, and display average baseline error\n",
    "baseline_errors = abs(baseline_preds - test_labels)\n",
    "print('Average baseline error: ', round(np.mean(baseline_errors), 2))"
   ]
  },
  {
   "cell_type": "code",
   "execution_count": 43,
   "metadata": {},
   "outputs": [],
   "source": [
    "# Import the model we are using\n",
    "from sklearn.ensemble import RandomForestRegressor\n",
    "# Instantiate model with 1000 decision trees\n",
    "rf = RandomForestRegressor(n_estimators = 1000, random_state = 42)\n",
    "# Train the model on training data\n",
    "rf.fit(train_df, train_labels);"
   ]
  },
  {
   "cell_type": "code",
   "execution_count": 44,
   "metadata": {},
   "outputs": [
    {
     "name": "stdout",
     "output_type": "stream",
     "text": [
      "Mean Absolute Error: 78.39\n"
     ]
    }
   ],
   "source": [
    "# Use the forest's predict method on the test data\n",
    "predictions = rf.predict(test_df)\n",
    "# Calculate the absolute errors\n",
    "errors = abs(predictions - test_labels)\n",
    "# Print out the mean absolute error (mae)\n",
    "print('Mean Absolute Error:', round(np.mean(errors), 2))"
   ]
  },
  {
   "cell_type": "markdown",
   "metadata": {},
   "source": [
    "# mean absolute error of the data is very less than the required value hence we have a good start"
   ]
  },
  {
   "cell_type": "code",
   "execution_count": 45,
   "metadata": {},
   "outputs": [
    {
     "name": "stdout",
     "output_type": "stream",
     "text": [
      "Accuracy: 91.77 %.\n"
     ]
    }
   ],
   "source": [
    "# Calculate mean absolute percentage error (MAPE)\n",
    "mape = 100 * (errors / test_labels)\n",
    "# Calculate and display accuracy\n",
    "accuracy = 100 - np.mean(mape)\n",
    "print('Accuracy:', round(accuracy, 2), '%.')"
   ]
  },
  {
   "cell_type": "markdown",
   "metadata": {},
   "source": [
    "##That looks pretty good! Our model has learned how to predict the expenses for the coming years in Seattle with 92% accuracy."
   ]
  },
  {
   "cell_type": "code",
   "execution_count": 46,
   "metadata": {},
   "outputs": [],
   "source": [
    "# Import tools needed for visualization\n",
    "#from sklearn.tree import export_graphviz \n",
    "#import pydot_ng as pydot\n",
    "# Pull out one tree from the forest\n",
    "#tree = rf.estimators_[5]\n",
    "# Import tools needed for visualization\n",
    "#from sklearn.tree import export_graphviz \n",
    "#import pydot_ng as pydot\n",
    "# Pull out one tree from the forest\n",
    "#tree = rf.estimators_[5]\n",
    "# Export the image to a dot file\n",
    "#export_graphviz(tree, out_file = 'tree.dot', feature_names = df_list, rounded = True, precision = 1)\n",
    "# Use dot file to create a graph\n",
    "#(graph, ) = pydot.graph_from_dot_file('tree.dot')\n",
    "# Write graph to a png file\n",
    "#graph.write_png('tree.png')"
   ]
  },
  {
   "cell_type": "code",
   "execution_count": 48,
   "metadata": {},
   "outputs": [
    {
     "ename": "NameError",
     "evalue": "name 'clf' is not defined",
     "output_type": "error",
     "traceback": [
      "\u001b[0;31m---------------------------------------------------------------------------\u001b[0m",
      "\u001b[0;31mNameError\u001b[0m                                 Traceback (most recent call last)",
      "Input \u001b[0;32mIn [48]\u001b[0m, in \u001b[0;36m<cell line: 2>\u001b[0;34m()\u001b[0m\n\u001b[1;32m      1\u001b[0m \u001b[38;5;28;01mfrom\u001b[39;00m \u001b[38;5;21;01msklearn\u001b[39;00m \u001b[38;5;28;01mimport\u001b[39;00m tree\n\u001b[0;32m----> 2\u001b[0m tree\u001b[38;5;241m.\u001b[39mplot_tree(\u001b[43mclf\u001b[49m)\n",
      "\u001b[0;31mNameError\u001b[0m: name 'clf' is not defined"
     ]
    }
   ],
   "source": [
    "from sklearn import tree\n",
    "tree.plot_tree(clf);"
   ]
  },
  {
   "cell_type": "code",
   "execution_count": null,
   "metadata": {},
   "outputs": [],
   "source": [
    "fn=['year']\n",
    "cn=['setosa', 'versicolor', 'virginica']fig, axes = plt.subplots(nrows = 1,ncols = 1,figsize = (4,4), dpi=300)tree.plot_tree(clf,\n",
    "               feature_names = fn, \n",
    "               class_names=cn,\n",
    "               filled = True);fig.savefig('imagename.png')"
   ]
  },
  {
   "cell_type": "code",
   "execution_count": null,
   "metadata": {},
   "outputs": [],
   "source": []
  }
 ],
 "metadata": {
  "kernelspec": {
   "display_name": "Python 3 (ipykernel)",
   "language": "python",
   "name": "python3"
  },
  "language_info": {
   "codemirror_mode": {
    "name": "ipython",
    "version": 3
   },
   "file_extension": ".py",
   "mimetype": "text/x-python",
   "name": "python",
   "nbconvert_exporter": "python",
   "pygments_lexer": "ipython3",
   "version": "3.10.4"
  }
 },
 "nbformat": 4,
 "nbformat_minor": 4
}
